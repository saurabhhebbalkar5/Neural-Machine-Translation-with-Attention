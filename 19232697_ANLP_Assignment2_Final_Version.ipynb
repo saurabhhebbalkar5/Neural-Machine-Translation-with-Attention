{
  "nbformat": 4,
  "nbformat_minor": 0,
  "metadata": {
    "colab": {
      "name": "EmbeddingWorking_BlueNot.ipynb",
      "provenance": [],
      "collapsed_sections": [],
      "machine_shape": "hm"
    },
    "kernelspec": {
      "name": "python3",
      "display_name": "Python 3"
    },
    "accelerator": "GPU"
  },
  "cells": [
    {
      "cell_type": "markdown",
      "metadata": {
        "id": "_elWd7Sf5ffR",
        "colab_type": "text"
      },
      "source": [
        "ANLP Assignment 2\n",
        "\n",
        "19232697 - Saurabh Hebbalkar"
      ]
    },
    {
      "cell_type": "markdown",
      "metadata": {
        "id": "BYQt0nUEbAgN",
        "colab_type": "text"
      },
      "source": [
        "# Neural Machine Translation - Assignment 2\n",
        "\n",
        "In this task, you will develop a neural machine translation (NMT) system to translate text from one language into another. For this, you will need to choose the data to train the models, perform data processing and train a sequence2sequence neural model.\n"
      ]
    },
    {
      "cell_type": "markdown",
      "metadata": {
        "id": "d33hukl0w-Nh",
        "colab_type": "text"
      },
      "source": [
        "## Section 1- Data Collection and Preprocessing \n",
        "\n",
        "\n",
        "---\n"
      ]
    },
    {
      "cell_type": "markdown",
      "metadata": {
        "id": "uAFJXKQaeN-d",
        "colab_type": "text"
      },
      "source": [
        "**Task 1  (5 marks)**\n",
        "\n",
        "---\n",
        "\n",
        "There are few datasets to train an NMT system available from Tatoeba Project (http://www.manythings.org/anki/) or OPUS project (http://opus.nlpl.eu/).\n",
        "\n",
        "*  Download a language pair (preferably European language) and **extract** the file(s) and upload it to CoLab\n",
        "*  Create a list of lines by splitting the text file at every occurrence accordingly, i.e. source and target language and remove copyright information\n",
        "*  Print number of sentences\n",
        "*  Limit the number of sentences to 10,000 lines (but more than 5,000 lines)\n",
        "*  Split the data into train and test [You can split validation set here or while training use Keras validation_split option]\n",
        "*  Print 100th sentence in original script[ not unicode] for source and target language"
      ]
    },
    {
      "cell_type": "code",
      "metadata": {
        "id": "9U9BaH3ozUGf",
        "colab_type": "code",
        "outputId": "5bffc5e0-0beb-49a8-ac10-a57e020c6382",
        "colab": {
          "base_uri": "https://localhost:8080/",
          "height": 34
        }
      },
      "source": [
        "#English - German\n",
        "#Imports\n",
        "import pandas as pd\n",
        "from sklearn.model_selection import train_test_split\n",
        "from keras.layers import Input, LSTM, Embedding, Dense\n",
        "from keras.models import Model\n",
        "from keras.utils import plot_model\n",
        "from numpy import array\n",
        "from numpy import asarray\n",
        "from numpy import zeros\n",
        "import nltk\n",
        "from nltk import bigrams, trigrams, ngrams\n",
        "from keras.layers import Input, LSTM, GRU, Dense, Embedding\n",
        "from keras.preprocessing.text import Tokenizer\n",
        "from keras.preprocessing.sequence import pad_sequences\n",
        "from keras.layers import Input, LSTM, GRU, Dense, Embedding, Activation, dot, concatenate, TimeDistributed"
      ],
      "execution_count": 1,
      "outputs": [
        {
          "output_type": "stream",
          "text": [
            "Using TensorFlow backend.\n"
          ],
          "name": "stderr"
        }
      ]
    },
    {
      "cell_type": "code",
      "metadata": {
        "id": "-5BATMocH5jA",
        "colab_type": "code",
        "outputId": "648cc39e-488a-4708-f3b2-d30cc98beac8",
        "colab": {
          "base_uri": "https://localhost:8080/",
          "height": 124
        }
      },
      "source": [
        "#German File + Glove 100 file both are placed in Google Drive\n",
        "from google.colab import drive\n",
        "drive.mount('/content/drive')"
      ],
      "execution_count": 2,
      "outputs": [
        {
          "output_type": "stream",
          "text": [
            "Go to this URL in a browser: https://accounts.google.com/o/oauth2/auth?client_id=947318989803-6bn6qk8qdgf4n4g3pfee6491hc0brc4i.apps.googleusercontent.com&redirect_uri=urn%3aietf%3awg%3aoauth%3a2.0%3aoob&response_type=code&scope=email%20https%3a%2f%2fwww.googleapis.com%2fauth%2fdocs.test%20https%3a%2f%2fwww.googleapis.com%2fauth%2fdrive%20https%3a%2f%2fwww.googleapis.com%2fauth%2fdrive.photos.readonly%20https%3a%2f%2fwww.googleapis.com%2fauth%2fpeopleapi.readonly\n",
            "\n",
            "Enter your authorization code:\n",
            "··········\n",
            "Mounted at /content/drive\n"
          ],
          "name": "stdout"
        }
      ]
    },
    {
      "cell_type": "code",
      "metadata": {
        "id": "EJSwrfddJyCX",
        "colab_type": "code",
        "outputId": "d1c51687-6448-4e53-e5af-11a89cfda920",
        "colab": {
          "base_uri": "https://localhost:8080/",
          "height": 34
        }
      },
      "source": [
        "#Changing the directory on file to access the files\n",
        "%cd drive/My\\ Drive/ANLP"
      ],
      "execution_count": 3,
      "outputs": [
        {
          "output_type": "stream",
          "text": [
            "/content/drive/My Drive/ANLP\n"
          ],
          "name": "stdout"
        }
      ]
    },
    {
      "cell_type": "code",
      "metadata": {
        "id": "jjJOC0p80sXl",
        "colab_type": "code",
        "outputId": "452ff14d-83da-45c4-cdff-79d58e3d5d84",
        "colab": {
          "base_uri": "https://localhost:8080/",
          "height": 52
        }
      },
      "source": [
        "#Reading the English - German file \n",
        "filename=\"deu.txt\"\n",
        "with open(filename , 'r') as german_file:\n",
        "  lines = german_file.read().split('\\n')\n",
        "\n",
        "result=[]\n",
        "for x in lines:\n",
        "    result.append(x.split('\\t')[:2])\n",
        "\n",
        "#Fetching only first 10000 Sentences\n",
        "lines = result[:10000]\n",
        "print(\"Total Number of Sentences:\",len(lines))\n",
        "print(lines[100])"
      ],
      "execution_count": 4,
      "outputs": [
        {
          "output_type": "stream",
          "text": [
            "Total Number of Sentences: 10000\n",
            "['Beat it.', 'Mach ’ne Fliege!']\n"
          ],
          "name": "stdout"
        }
      ]
    },
    {
      "cell_type": "markdown",
      "metadata": {
        "id": "x63IEWjUxkJj",
        "colab_type": "text"
      },
      "source": [
        "**Task 2 (5 marks)** \n",
        "\n",
        "---\n",
        "\n",
        "* Add '<bof\\>' to denote beginning of sentence and '<eos\\>' to denote the end of the sentence to each target line.\n",
        "* Preprocess (word tokenisation, lowercasing) the text."
      ]
    },
    {
      "cell_type": "code",
      "metadata": {
        "id": "7-0Ym9HW6bjr",
        "colab_type": "code",
        "colab": {}
      },
      "source": [
        "#Defining the source & target list & set \n",
        "input_texts = list()\n",
        "target_texts = list()\n",
        "target_text_input = list()\n",
        "source_words = set()\n",
        "target_words = set()"
      ],
      "execution_count": 0,
      "outputs": []
    },
    {
      "cell_type": "code",
      "metadata": {
        "id": "9Hj-3V4iCKut",
        "colab_type": "code",
        "colab": {}
      },
      "source": [
        "num_samples = 10000\n",
        "for line in lines[: min(num_samples, len(lines))]:\n",
        "  \n",
        "  #splitting the source and target text\n",
        "  input_text, temp_tar_text = line[0], line[1]\n",
        "  #Converting to lowercase\n",
        "  input_text = input_text.lower()\n",
        "  temp_tar_text = temp_tar_text.lower()\n",
        "  #adding the start and end tag only to the target\n",
        "  target_text = temp_tar_text + ' <eos>'\n",
        "  target_text_input_temp = '<bof> ' + temp_tar_text\n",
        "  #Appending it to list\n",
        "  input_texts.append(input_text)\n",
        "  target_texts.append(target_text)\n",
        "  target_text_input.append(target_text_input_temp)"
      ],
      "execution_count": 0,
      "outputs": []
    },
    {
      "cell_type": "code",
      "metadata": {
        "id": "pmNr8gnzfCeS",
        "colab_type": "code",
        "colab": {}
      },
      "source": [
        "#Adding only the unique words to the dictionary for Source\n",
        "for sentence in input_texts:\n",
        "  words = sentence.split()\n",
        "  for word in words:\n",
        "    if word not in source_words:\n",
        "      source_words.add(word)\n",
        "#Adding only the unique words to the dictionary for Target\n",
        "for sentence in target_texts:\n",
        "  words = sentence.split()\n",
        "  for word in words:\n",
        "    if word not in target_words:\n",
        "      target_words.add(word)"
      ],
      "execution_count": 0,
      "outputs": []
    },
    {
      "cell_type": "code",
      "metadata": {
        "id": "nUBiQSX81-wY",
        "colab_type": "code",
        "colab": {}
      },
      "source": [
        "#Source & Target Vocabulary \n",
        "source_vocabulary = sorted(list(source_words))\n",
        "target_vocabulary = sorted(list(target_words))\n",
        "#Length of Source and Target Tokens\n",
        "num_source_tokens = len(source_words)\n",
        "num_target_tokens = len(target_words)+1\n",
        "#Max size of source and target sentences\n",
        "max_source_seq_length = max([len(txt) for txt in input_texts])\n",
        "max_target_seq_length = max([len(txt) for txt in target_texts])"
      ],
      "execution_count": 0,
      "outputs": []
    },
    {
      "cell_type": "code",
      "metadata": {
        "id": "x4-mCmoMxAd0",
        "colab_type": "code",
        "outputId": "01096da6-ac57-431a-c49f-c07903d1cad9",
        "colab": {
          "base_uri": "https://localhost:8080/",
          "height": 158
        }
      },
      "source": [
        "#Printing the results\n",
        "print('Number of samples:', len(input_texts))\n",
        "print('Number of unique source language tokens:', num_source_tokens)\n",
        "print('Number of unique target language tokens:', num_target_tokens)\n",
        "print('Max sequence length of source language:', max_source_seq_length)\n",
        "print('Max sequence length of target language:', max_target_seq_length)\n",
        "print(\"Source Vocabulary\",source_vocabulary)\n",
        "print(\"Target Vocabulary\",target_vocabulary)"
      ],
      "execution_count": 10,
      "outputs": [
        {
          "output_type": "stream",
          "text": [
            "Number of samples: 10000\n",
            "Number of unique source language tokens: 3085\n",
            "Number of unique target language tokens: 4980\n",
            "Max sequence length of source language: 15\n",
            "Max sequence length of target language: 49\n",
            "Source Vocabulary ['\"aah.\"', '$10.00.', '$100.', '$30.', '$300.', '$5.', '12', '13', '17,', '18?', '19.', '2:00', '3.', '30?', '3:30.', '50', '65.', '7:45.', '8:00', '8:30.', '911.', '99%', '9:15.', 'a', 'a.', 'abandon', 'aboard!', 'aboard.', 'about', 'abroad.', 'absent.', 'absent?', 'absurd!', 'accelerated.', 'accept', 'accurate.', 'ache.', 'ached.', 'aches.', 'acne.', 'across.', 'act', 'action.', 'active.', 'actor.', 'add', 'addict.', 'addicted.', 'admirable.', 'admire', 'admired', 'admit', 'adopted', 'adopted.', 'adopted?', 'adore', 'adores', 'advice.', 'advises', 'afraid', 'afraid.', 'afraid?', 'after', 'afternoon.', 'again!', 'again.', 'against', 'age.', 'agree.', 'agree?', 'agreed.', 'agrees.', 'ahead!', 'ahead.', 'aim', 'aim.', \"ain't\", 'air.', 'alert.', 'alive.', 'alive?', 'all', 'all.', 'allow', 'almonds.', 'almost', 'alone', 'alone!', 'alone.', 'alone?', 'along.', 'aloud.', 'already', 'also', 'always', 'am', 'am!', 'am.', 'amazed.', 'amazing.', 'ambush!', 'american.', 'american?', 'amnesia.', 'amuse', 'amused.', 'amusing.', 'an', 'and', 'anemic.', 'angel.', 'angry!', 'angry.', 'angry?', 'animal.', 'animals.', 'annoy', 'annoyed.', 'annoying.', 'annoys', 'anorexic.', 'another.', 'answer', 'answer.', 'answered.', 'answers.', 'anxious.', 'any', 'anybody', 'anybody.', 'anyone', 'anyone.', 'anything', 'anyway.', 'apart.', 'apologize.', 'apologized.', 'appears', 'applauded.', 'apple.', 'apples', 'apples.', 'approached.', 'approve.', 'approved.', 'approved?', 'approves.', 'arabs.', 'are', 'are!', 'are.', \"aren't\", 'arm', 'arm.', 'armed.', 'around', 'around.', 'around?', 'arrived.', 'arrived?', 'arrogant!', 'art.', 'art?', 'artist.', 'artistic.', 'as', 'ashamed.', 'asian.', 'aside.', 'ask', 'ask.', 'ask?', 'asked', 'asked.', 'asleep.', 'asleep?', 'assume', 'asthma.', 'at', 'ate', 'ate.', 'ate?', 'atheist.', 'atm?', 'attack!', 'attack.', 'attend.', 'attentive.', 'aunt.', 'austrian.', 'author.', 'autistic.', 'autumn', 'autumn.', 'average.', 'avoids', 'awake.', 'awake?', 'away!', 'away,', 'away.', 'away?', 'awesome!', 'awesome.', 'awful!', 'awkward.', 'babe.', 'babies', 'baby.', 'bach.', 'back', 'back!', 'back.', 'backed', 'backup.', 'bad', 'bad.', 'bad?', 'baffled.', 'bag.', 'bag?', 'baker.', 'baking', 'baking.', 'bald.', 'bald?', 'ball.', 'banana.', 'bananas.', 'bankrupt.', 'barbaric!', 'barely', 'bargain.', 'bark.', 'barked.', 'bat?', 'be', 'be!', 'be.', 'be?', 'beans.', 'bear?', 'beard.', 'beat', 'beaten.', 'beautiful!', 'beautiful.', 'became', 'bed!', 'bed.', 'bedtime.', 'beef,', 'beef.', 'been', \"beer's\", 'beer,', 'beer.', 'began', 'begin.', 'begin?', 'beginner.', 'begun.', 'behind', 'being', 'belched.', 'believe', 'believed', 'bell', 'belong', 'below.', 'bent', 'best!', 'best.', 'bet', 'bet.', 'betrayed', 'better', 'better.', 'beyond', 'biased.', 'big', 'big.', 'big?', 'bigger.', 'bigot.', 'bike', 'bike.', 'biked', 'biker.', 'bill', 'bird!', 'bird.', 'bird?', 'birds', 'birthday!', 'bit', 'bit?', 'bite.', 'bites.', 'bizarre.', 'black.', 'black?', 'blacked', 'blame', 'blame.', 'blames', 'blast.', 'bled.', 'bleeding.', 'bless', 'blind.', 'blind?', 'blinked.', 'blog.', 'blond.', 'blonde.', 'blood.', 'blood?', 'bloom.', 'blue.', 'blue?', 'bluffing.', 'blushed.', 'boat.', 'boats', 'boil', 'book.', 'books.', 'bore!', 'bored,', 'bored.', 'bored?', 'boring!', 'boring.', 'borrow', 'boss.', 'boston.', 'boston?', 'botanist.', 'both', 'both.', 'bother?', 'bottoms', 'bought', 'bowed.', 'boy', 'boy!', 'boy.', 'boy?', 'boys', 'boys.', 'brace', 'braces.', 'brag.', 'bragging.', 'brakes.', 'brand', 'brave.', 'brave?', 'bread.', 'break', 'break.', 'brews', 'brief.', 'bright.', 'bring', 'broke', 'broke.', 'broke?', 'broken.', 'broken?', 'broom.', 'brothers.', 'brown.', 'bug', 'bugs.', 'built', 'bulky.', 'bullied.', 'burned', 'burned.', 'burns.', 'burp', 'burped.', 'bury', 'bus.', 'business.', 'busted.', 'busy', 'busy,', 'busy.', 'busy?', 'butcher.', 'buy', 'buying.', 'by', 'by.', 'cab.', 'cage.', 'cake.', 'call', 'call.', 'call?', 'called', 'called.', 'called?', 'callous.', 'calls.', 'calm', 'calm.', 'calmly.', 'came', 'came.', 'came?', 'camels.', 'can', \"can't\", 'can.', 'canadian.', 'cancel.', 'canceled.', 'canceled?', 'cancer.', 'cancer?', 'candy.', 'cannot', 'captured.', 'car', \"car's\", 'car.', 'car?', 'card.', 'care!', 'care.', 'cared.', 'careful!', 'careful.', 'cares.', 'cares?', 'carrots.', 'carry', 'cars.', 'cash.', 'castles.', 'cat', 'cat.', 'cat?', 'catch', 'cats', 'cats.', 'cattle.', 'caught', 'caught.', 'caught?', 'caused', 'caviar.', 'cd.', 'cds.', 'celery.', 'certain.', 'chair.', 'change', 'change.', 'change?', 'changed.', 'charm.', 'charming.', 'cheat.', 'cheated', 'cheated.', 'cheated?', 'cheats.', 'check', 'check,', 'check.', 'checked.', 'cheer', 'cheered.', 'cheered?', 'cheerful.', 'cheers!', 'cheese.', 'chef.', 'chess.', 'chest', 'chew', 'chicken.', 'child.', 'chill', 'chilly.', 'chinese.', 'choked', 'choking.', 'choose', 'chose', 'christmas.', 'chubby.', 'chuckled.', 'church.', 'circle.', 'city.', 'clap.', 'clapped.', 'class.', 'classic.', 'clean', 'clean.', 'clear.', 'clearly.', 'clever!', 'clever.', 'climbing.', 'clock.', 'clocks.', 'close', 'close.', 'closed.', 'closely.', 'closer.', 'cloudy.', 'clue.', 'cnn.', 'coat.', 'coffee,', 'coffee.', 'coffee?', 'coin.', 'coke,', 'cold', 'cold.', 'cold?', 'college.', 'come', 'come!', 'come,', 'come.', 'come?', 'comes', 'comes.', 'comfort', 'coming', 'coming.', 'coming?', 'command.', 'comment.', 'complain.', 'complained.', 'complained?', 'complex.', 'concerned.', 'confessed.', 'confused.', 'confused?', 'confusing.', 'contact', 'continue.', 'contributed.', 'control.', 'convinced.', 'cook', 'cook.', 'cook?', 'cookies.', 'cooking.', 'cooks', 'cool', 'cool.', 'cool?', 'cops!', 'cops?', 'copy.', 'correct.', 'correct?', 'costs', 'cough', 'coughed.', 'coughing.', 'could', 'count', 'count.', 'counting.', 'country!', 'courage.', 'course!', 'course.', 'cousins.', 'cover!', 'cover.', 'coward.', 'cows', 'crafty.', 'cranky.', 'crazy.', 'crazy?', 'creative.', 'creepy.', 'crew.', 'cried', 'cried,', 'cried.', 'crime.', 'cripple.', 'crown.', 'cruel.', 'cry,', 'cry.', 'cry?', 'crying.', 'crying?', 'cuff', 'cup', 'cup?', 'cured.', 'curious!', 'curious.', 'curse.', 'curt.', 'cut', 'cute!', 'cute.', 'cute?', 'cutie.', 'cynical.', 'd.', 'dad.', 'dad?', 'damaged?', 'dance', 'dance.', 'dance?', 'danced.', 'dances.', 'dancing.', 'danger.', 'dangerous.', 'danish.', 'dare', 'dark.', 'dark?', 'date.', 'dating.', 'day', 'day!', 'day.', 'dead', 'dead.', 'dead?', 'deaf.', 'deaf?', 'deal', 'deal.', 'death', 'debt.', 'decide.', 'decided.', 'decisive.', 'decline.', 'deep', 'deep?', 'deer.', 'deer?', 'definitely!', 'delicate.', 'delicious.', 'denial.', 'denied', 'dentist.', 'deny', 'depressed.', 'describe', 'deserve', 'deserved', 'desk', 'despise', 'despised', 'dessert.', 'destroy', 'detest', 'devastated.', 'devious.', 'devoted.', 'diabetic.', 'dialed', 'diary.', 'dice.', 'did', \"didn't\", 'die.', 'die?', 'died', 'died.', 'died?', 'dies.', 'diet.', 'dieting.', 'dieting?', 'differ.', 'different.', 'difficult.', 'dig', \"dinner's\", 'dinner.', 'dinner?', 'dirty.', 'disagree.', 'disagreed.', 'disagreed?', 'disappeared.', 'discreet.', 'disgust', 'disgusting!', 'dislike', 'dislikes', 'ditched', 'divorced.', 'dizzy.', 'dj.', 'do', 'do.', 'do?', 'doable.', 'doctor.', 'doctor?', 'doctors.', 'does', \"doesn't\", 'dog', 'dog!', \"dog's\", 'dog.', 'dogs', 'dogs.', 'doing', 'doing?', 'doll.', \"don't\", 'done,', 'done.', 'done?', 'donut.', 'donuts.', 'doomed.', 'door!', 'door.', 'doors.', 'doubts.', 'down', 'down!', 'down.', 'down?', 'downstairs.', 'dozed', 'dozed.', 'dozing.', 'drank', 'draw', 'draw.', 'drawing.', 'draws', 'dream', 'dream.', 'dream?', 'dreaming.', 'dreaming?', 'dreams!', 'dressed.', 'drink', 'drink.', 'drink?', 'drinks.', 'drive', 'drive.', 'drive?', 'driven.', 'drives', 'drives.', 'driving.', 'drop', 'drove', 'drove.', 'drown?', 'drowned.', 'drowning.', 'drunk!', 'drunk.', 'drunk?', 'dubious.', 'dug', 'dumb.', 'dump.', 'dumped', 'dumped.', 'dusting.', 'duty', 'duty.', 'dvd.', 'dwarf.', 'dying.', 'dying?', 'dyslexic.', 'earlier.', 'early.', 'early?', 'ears', 'ears.', 'ease!', 'easily', 'easter!', 'easy', 'easy!', 'easy.', 'easygoing.', 'eat', 'eat.', 'eat?', 'eaten.', 'eaten?', 'eating', 'eating.', 'eats', 'egg.', 'eggs.', 'ego!', 'eight.', 'eighteen.', 'elderly.', 'else', 'else?', 'elusive.', 'empty.', 'end?', 'enemies.', 'engaged.', 'engine.', 'english.', 'enjoy', 'enjoyed', 'enlisted.', 'enough.', 'enough?', 'enraged.', 'enter.', 'envy', 'escape?', 'escaped.', 'escaped?', 'escaping.', 'even', 'even.', 'evening.', 'everybody', 'everybody.', 'everyone', 'everyone!', 'everyone.', 'everything.', 'evident.', 'evil.', 'ex-con.', 'ex.', 'exaggerated.', 'examine', 'excited.', 'exciting!', 'exciting.', 'excuse', 'excused.', 'exercised.', 'exercises.', 'exhale', 'exhaled.', 'exhausted.', 'exist.', 'exists.', 'expected.', 'expecting.', 'expert.', 'explain.', 'eyes', 'eyes.', 'face', 'face.', 'fact.', 'facts.', 'fad.', 'fail.', 'failed.', 'faint?', 'fainted.', 'fair.', 'fair?', 'faith.', 'fake.', 'fall', 'fall?', 'falling.', 'family.', 'famished.', 'famous.', 'famous?', 'fan.', 'fan?', 'fanatic.', 'fantastic!', 'far', 'far.', 'far?', 'farm.', 'farsighted.', 'fascinated.', 'fast.', 'faster.', 'fasting.', 'fasting?', 'fat.', 'fat?', 'father.', 'fatter.', 'fault.', 'fault?', 'favor.', 'fbi.', 'fear', 'fear.', 'fearless.', 'fed', 'fee?', 'feed', 'feel', 'feels', 'feet', 'feet.', 'fell', 'fell.', 'fell?', 'felt', 'fever.', 'few.', 'fight.', 'fight?', 'fighting!', 'fighting.', 'fill', 'filming.', 'filthy.', 'find', 'fine.', 'finicky.', 'finish', 'finish.', 'finished.', 'fire', 'fire!', 'fire.', 'fired', 'fired.', 'fired?', 'fireman.', 'first.', 'first?', 'fish', 'fish,', 'fish.', 'fish?', 'fishing', 'fishing.', 'fist.', 'fit.', 'fit?', 'five', 'fix', 'fixed', 'flaky.', 'flat.', 'flat?', 'flatter', 'flattered.', 'flew', 'flies', 'flies!', 'flinched.', 'flip', 'floats.', 'floor.', 'flowers', 'flowers.', 'flu.', 'flunk.', 'fly', 'fly.', 'flying', 'focus.', 'focused.', 'foggy.', 'foggy?', 'follow', 'follow.', 'follow?', 'followed', 'followed.', 'food', 'food.', 'fool.', 'fooled', 'foolish.', 'fools.', 'foot', 'foot.', 'for', 'for?', 'forbidden.', 'ford.', 'forgave', 'forget', 'forget.', 'forget?', 'forgive', 'forgot', 'forgot.', 'form', 'forward.', 'fought.', 'found', 'fox.', 'frail.', 'framed.', 'frank.', 'frantic.', 'freaked', 'freaked.', 'free', 'free.', 'free?', 'freeze!', 'freezing.', 'french.', 'friend.', 'friendly.', 'friends.', 'frowned.', 'froze.', 'frugal.', 'fruit.', 'fry', 'full.', 'fuming.', 'fun', 'fun!', 'fun.', 'fun?', 'fungus.', 'funny.', 'funny?', 'furious.', 'futile.', 'gamble.', 'gambler.', 'game.', 'games.', 'gang.', 'garlic.', 'gas.', 'gasped.', 'gasping.', 'gate.', 'gave', 'gawking.', 'gear.', 'genius.', 'geniuses.', 'gentle.', 'get', 'get?', 'gets', 'getting', 'ghosts', 'giddy.', 'gift.', 'gifts.', 'giggled.', 'girl.', 'girls', 'girls.', 'give', 'given.', 'gives?', 'glad.', 'glass.', 'glasses.', 'gloated.', 'glue.', 'go', 'go!', 'go,', 'go.', 'go?', 'god', 'god.', 'goes', 'going', 'going,', 'going.', 'going?', 'gold.', 'golf', 'gone.', 'gone?', 'good', 'good!', 'good.', 'good?', 'goodbye!', 'goodbye.', 'goodnight.', 'goofed.', 'gorgeous.', 'gossiping.', 'got', 'got?', 'grab', 'grabbed', 'graduated.', 'grass.', 'grateful.', 'great!', 'great.', 'great?', 'greedy.', 'green.', 'grew', 'grieving.', 'grimaced.', 'grinned.', 'grinning.', 'groaned.', 'gross.', 'grotesque.', 'grouch.', 'grouchy.', 'grounded.', 'grow', 'grow.', 'grown.', 'grows', 'grumbled.', 'grumbling.', 'grumpy.', 'guarantee', 'guard.', 'guess', 'guess.', 'guessed.', 'guests.', 'guilty.', 'guilty?', 'gullible.', 'gum.', 'gun!', 'gun.', 'guns.', 'gut.', 'guts.', 'guy.', 'guys.', 'hacked.', 'had', 'hailed', 'hailing.', 'hair', \"hair's\", 'half.', 'ham.', 'hand', 'hand.', 'handle', 'hands', 'hands.', 'hang', 'happen.', 'happen?', 'happened.', 'happened?', 'happens.', 'happy', 'happy,', 'happy.', 'happy?', 'hard.', 'harder.', 'harmless.', 'harvard.', 'has', 'hassle!', 'hat.', 'hat?', 'hate', 'hated', 'hated.', 'hates', 'have', 'have?', 'having', 'he', \"he's\", 'he?', 'head', 'healthily.', 'healthy.', 'hear', 'heard', 'hearsay.', 'heart', 'heavy.', 'hell.', 'hello', 'hello!', 'hello,', 'hello.', 'help', 'help!', 'help.', 'help?', 'helped', 'helped.', 'helpful.', 'helping.', 'helping?', 'helpless.', 'helps', 'helps.', 'henpecked.', 'her', 'her.', 'her?', 'here', 'here!', \"here's\", 'here,', 'here.', 'here?', 'hero.', 'heroic.', 'hers.', 'hesitated.', 'hey,', 'hi,', 'hi.', 'hiccup.', 'hide', 'hide.', 'hideous.', 'hiding.', 'hiding?', 'high', 'higher.', 'hiking.', 'him', 'him!', 'him.', 'him?', 'hint?', 'hip', 'hired', 'hired.', 'hired?', 'hiring?', 'his', 'his.', 'history.', 'hit', 'hit!', 'hives.', 'hobby.', 'hogwash.', 'hold', 'hole.', 'holiday.', 'holidays.', 'home', 'home!', 'home,', 'home.', 'home?', 'homeless.', 'homesick.', 'honest.', 'honest?', 'honesty', 'honor.', 'hop', 'hope', 'hope.', 'hopeless.', 'horrible!', 'horrible.', 'horse.', 'horses.', 'hot', 'hot.', 'hot?', 'hottie.', 'hour.', 'house.', 'how', \"how's\", 'how.', 'hug', 'hug.', 'huge.', 'hugged', 'hugged.', 'human.', 'humble.', 'humming.', 'humming?', 'humor', 'hunch.', 'hung', 'hungarian.', 'hungover.', 'hungry', 'hungry!', 'hungry.', 'hungry?', 'hunt.', 'hunter.', 'hurried', 'hurry', 'hurry!', 'hurry.', 'hurt', 'hurt.', 'hurt?', 'hurting.', 'hurts', 'hurts.', 'i', \"i'd\", \"i'll\", \"i'm\", \"i've\", 'i?', 'ice', 'ice.', 'idea.', 'ideal.', 'idiot!', 'idiots.', 'idol.', 'ignore', 'ignored', 'ill.', 'ill?', 'illegal.', 'illiterate.', 'immoral.', 'immune.', 'impatient.', 'important.', 'impressed.', 'improve.', 'improved.', 'improvised.', 'in', 'in!', 'in,', 'in.', 'in?', 'incorrect.', 'inhaled.', 'inhumane.', 'injured.', 'innocent.', 'insane.', 'insects.', 'inside.', 'inside?', 'insisted.', 'insult.', 'intense.', 'interested.', 'intervened.', 'intervened?', 'invited.', 'invited?', 'ipod.', 'iron', 'ironing.', 'is', 'is!', 'is.', \"isn't\", 'issues.', 'it', 'it!', \"it'll\", \"it's\", 'it,', 'it.', 'it?', 'jail.', 'jam.', 'japan.', 'japanese.', 'japanese?', 'jaw', 'jazz.', 'jealous.', 'jealous?', 'jeans', 'jerk.', 'jesuit.', 'jesus', 'jittery.', 'job.', 'jobless.', 'jock.', 'jogging.', 'join', 'joined', 'joints', 'joke.', 'joke?', 'jokes.', 'jokes?', 'joking!', 'joking.', 'joking?', 'jump', 'jump!', 'jump.', 'jumped.', 'just', 'just.', 'justice.', 'karaoke.', 'keep', 'keeps', 'kept', 'ketchup.', 'key.', 'kick.', 'kicked', 'kid', 'kid.', 'kidding!', 'kidding.', 'kidding?', 'kids', 'kids.', 'kids?', 'kill', 'killed', 'killed.', 'killed?', 'kind.', 'kiss', 'kiss.', 'kissed', 'kissed.', 'kissing', 'kite.', 'klutz.', 'knee', 'kneeled.', 'knelt', 'knew', 'knew.', 'knits.', 'know', 'know.', 'know?', 'knows', 'knows.', 'knows?', 'korean.', 'ladies', 'large', 'large.', 'lasagna.', 'last.', 'lasts.', 'late', 'late.', 'late?', 'later.', 'laugh', 'laugh.', 'laugh?', 'laughed.', 'laughing.', 'laughing?', 'law.', 'lawyer.', 'lawyers.', 'lay', 'lazy.', 'lead', 'lead.', 'leaks.', 'learn', 'learn.', 'learns', 'leave', 'leave!', 'leave.', 'leave?', 'leaving.', 'leaving?', 'led', 'left', 'left.', 'left?', 'lefty.', 'leg.', 'legal?', 'lend', 'let', \"let's\", 'lettuce.', 'liar.', 'liars.', 'lie', 'lie.', 'lie?', 'lied', 'lied.', 'lies.', 'life', 'life!', \"life's\", 'life.', 'life?', 'light.', 'likable.', 'like', 'like.', 'like?', 'liked', 'likes', 'limp.', 'limping.', 'line!', 'lines.', 'lion.', 'lip.', 'lips', 'lips.', 'list.', 'listen', 'listen.', 'listened.', 'listened?', 'listening.', 'listens.', 'live', 'live.', 'lives', 'livid.', 'llama?', 'loaded.', 'loan.', 'lock', 'locked.', 'logical.', 'london.', 'lonely.', 'lonely?', 'loner.', 'long', 'long.', 'look', 'look.', 'look?', 'looked', 'looked.', 'looking.', 'looking?', 'looks', 'loosen', 'lose!', 'lose.', 'loser!', 'loser.', 'losing.', 'loss!', 'lost', 'lost!', 'lost.', 'lost?', 'lot!', 'lot.', 'lot?', 'lots.', 'loud.', 'loud?', 'louder,', 'louder.', 'lovable.', 'love', 'love.', 'love?', 'loved', 'lovely!', 'loves', 'loving.', 'low.', 'loyal.', 'luck!', 'luck.', 'lucky', 'lucky.', 'lunch', 'lunch.', 'lunch?', 'lying', 'lying!', 'lying.', 'lying?', 'mad', 'mad.', 'mad?', 'made', 'made?', 'magic.', 'mahjong.', 'mail.', 'make', 'makes', 'making', 'mama', 'man', 'man.', 'manage.', 'managing.', 'many', 'map.', 'married', 'married.', 'married?', 'marry', 'marvelous.', 'mary', 'mary.', 'math', 'math.', 'matters.', 'mature.', 'may', 'maybe', 'me', 'me!', 'me.', 'me?', 'mean', 'mean.', 'means', 'meant', \"meat's\", 'meat,', 'meat.', 'meddling.', 'medic.', 'meditating.', 'meet', 'meet.', 'memorize', 'men', 'men.', 'merciful.', 'mess!', 'messy.', 'met', 'met.', 'met?', 'mice.', 'midnight.', 'might', 'milk.', 'mind', 'mind!', 'mind.', 'mind?', 'mine', 'mine.', 'mine?', 'miner.', 'minor.', 'minute.', 'miserable.', 'miserly.', 'misled', 'miss', 'missed', 'missed.', 'misses', 'missing.', 'missing?', 'mistaken?', 'moaned.', 'mock', 'modest.', \"mom's\", 'mom.', 'mom?', 'moment.', 'monday', 'monday!', 'monday.', 'mondays.', 'money', 'money.', 'monk.', 'moody.', 'more', 'more.', 'more?', 'morning.', 'moron.', 'morons.', 'mortal.', 'mother.', 'motivated.', 'mouse!', 'mouse.', 'move', 'move.', 'move?', 'moved', 'moved.', 'movies.', 'moving!', 'moving.', 'much', 'much.', 'mug?', 'mugged.', \"mum's\", 'music.', 'musician.', 'muslim.', 'must', 'my', 'myself.', 'myth.', 'naive.', 'naked.', 'name', \"name's\", 'name.', 'nap.', 'nature.', 'naughty.', 'nearby.', 'nearby?', 'nearly', 'neat.', 'neck', 'need', 'need?', 'needed', 'needed.', 'needs', 'needy.', 'nervous.', 'nervous?', 'neutral.', 'never', 'new', 'new.', 'new?', 'news.', 'next.', 'next?', 'nice', 'nice!', 'nice.', 'nice?', 'night', 'night!', 'night.', 'nights.', 'no', 'no,', 'no.', 'no?', 'nobody', \"nobody'll\", \"nobody's\", 'nodded', 'nodded.', 'nodding.', 'noise.', 'nonsense!', 'noodles.', 'normal.', 'normal?', 'nose', 'nose.', 'nosy.', 'not', 'not.', 'notes.', 'nothing.', 'notice?', 'noticed.', 'now', 'now,', 'now.', 'now?', 'number.', 'nurse.', 'nuts!', 'nuts.', 'obese.', 'obey', 'obey.', 'obeyed.', 'obeys', 'object?', 'objected.', 'objective.', 'obscene.', 'obsolete.', 'occupied.', 'ocd.', 'odd.', 'of', 'off', 'off!', 'off.', 'offended.', 'officer.', 'often', 'oh,', 'ok', 'ok,', 'ok.', 'ok?', 'okay.', 'okay?', 'old', 'old.', 'older.', 'oldest.', 'on', 'on!', 'on,', 'on.', 'on?', 'once', 'once.', 'one', 'one!', \"one's\", 'one.', 'one?', 'onions.', 'online.', 'only', 'open', 'open.', 'opened', 'oppose', 'optimistic.', 'optional.', 'or', 'order.', 'order?', 'orders.', 'orphan.', 'our', 'ours.', 'ours?', 'out', 'out!', 'out.', 'out?', 'outdoors.', 'outgoing.', 'outlaw.', 'outside.', 'outside?', 'over', 'over!', 'over.', 'over?', 'overslept.', 'overweight.', 'overworked.', 'owe', 'owe?', 'owes', 'owls', 'own', 'own.', 'owns', 'oysters.', 'p.m.', 'pacifist.', 'pack', 'packing.', 'paddling.', 'page', 'paid', 'paid.', 'pain.', 'pain?', 'paint', 'paint.', 'painted.', 'painter.', 'paints.', 'pale.', 'pandas.', 'panic!', 'panic.', 'panicked.', 'panicked?', 'panting.', 'paper.', 'parents.', 'paris.', 'paris?', 'park.', 'parties.', 'partners.', 'pass', 'pass.', 'passed', 'passed.', 'pathetic!', 'patient.', 'paused.', 'pay', 'pay.', 'pay?', 'paying.', 'paying?', 'pays.', 'peace.', 'peas.', 'peek.', 'pen', 'pen.', 'people', 'people.', 'perceptive!', 'perfect!', 'perfect.', 'perth.', 'ph.d.', 'phone', 'phoned', 'phoned.', 'phoned?', 'piano.', 'pick', 'picky.', 'picture.', 'pigs', 'pigs.', 'pilot.', 'pinched', 'pisces.', 'pity', 'pity!', 'pity.', 'pizza.', 'plan.', 'plane.', 'plans.', 'plant.', 'plants', 'plants.', 'plastic.', 'play', 'play.', 'playing.', 'plays', 'plead', 'please', 'please.', 'pleased.', 'poems.', 'poet.', 'point.', 'pointless.', 'poison.', 'poisoned.', 'polite.', 'polite?', 'pompous.', 'pony.', 'pool.', 'poor.', 'popcorn.', 'popular.', 'popular?', 'positive.', 'possible.', 'possible?', 'posted.', 'pout.', 'power.', 'powerful.', 'practice.', 'pray', 'pray.', 'pray?', 'prayed.', 'praying.', 'precise.', 'prefer', 'pregnant.', 'prepaid.', 'prepare', 'prepared.', 'present.', 'pretty.', 'price', 'prices', 'prison.', 'prisoner.', 'privacy.', 'problem!', 'problem.', 'proceed.', 'promise.', 'promised', 'promised.', 'proof.', 'prosper.', 'protested.', 'prove', 'psychic.', 'pull', 'pun.', 'punched', 'puppy.', 'purist.', 'purr?', 'push', 'push.', 'pushed', 'pushy.', 'put', 'put.', 'puzzled.', 'puzzles.', 'qualified?', 'quarreled.', 'queasy.', 'questions?', 'quick!', 'quick.', 'quicker.', 'quickly!', 'quickly.', 'quiet', 'quiet!', 'quiet,', 'quiet.', 'quietly.', 'quit', 'quit.', 'quit?', 'quite', 'quitter.', 'quitting?', 'rabbi.', 'radical.', 'radio', 'radio.', 'rain.', 'raining.', 'raise', 'raise.', 'raised', 'ran', 'ran.', 'ran?', 'rang.', 'rarely', 'rat.', 'rather', 'rats.', 'read', 'read.', 'read?', 'reading', 'reading.', 'ready', 'ready!', 'ready.', 'ready?', 'real!', 'real.', 'real?', 'realistic!', 'really', 'really?', 'reasonable.', 'rebel.', 'recovered.', 'recycle?', 'red', 'red.', 'redhead.', 'redundant.', 'refuse.', 'refused.', 'reggae.', 'relax.', 'relaxed.', 'release', 'relented.', 'reliable.', 'relief!', 'relief.', 'rely', 'remarried.', 'remember', 'remember.', 'remembered.', 'remembers.', 'remembers?', 'removed', 'replace', 'reply?', 'rescued', 'resign.', 'resigned.', 'resist.', 'resisting!', 'respect', 'respects', 'respond.', 'responded?', 'rest', 'rest.', 'rested.', 'resting.', 'restless.', 'retired.', 'retired?', 'return', 'return.', 'returned.', 'revenge.', 'rewrote', 'rice.', 'rich', 'rich.', 'rich?', 'rid', 'riddles.', 'ride.', 'rifle.', 'right', 'right!', 'right.', 'right?', 'ring.', 'risk', 'risk.', 'risks.', 'risky.', 'road.', 'robbed.', 'robe.', 'rock.', 'rocks.', 'roll', 'romantic!', 'roof', 'room.', 'rope.', 'rose', 'rose.', 'roses.', 'rubbish.', 'rude.', 'ruined', 'ruined.', 'rule.', 'rules.', 'run', 'run!', 'run.', 'run?', 'running.', 'runs', 'runs.', 'rush', 'rushed', 'ruthless.', 'sad', 'sad.', 'safe', 'safe.', 'safe?', 'safely.', 'said', 'saint.', 'salad.', 'sale.', 'salesman.', 'salmon.', 'salt.', 'salt?', 'samurai.', 'sand.', 'sane.', 'sang', 'sang.', 'sashimi.', 'sat', 'satisfied.', 'saturday.', 'saturn.', 'sauce.', 'save', 'saved', 'saved.', 'saw', 'say', 'say.', 'saying', 'says', 'scarce.', 'scare', 'scared', 'scared.', 'scared?', 'scares', 'scary.', 'scary?', 'school', \"school's\", 'school.', 'science', 'scold', 'scolded', 'scoot', 'scream.', 'screamed.', 'scurvy.', 'sea.', 'seafood.', 'seals', 'searching.', 'seasick.', 'seat.', 'seated.', 'sec.', 'second.', 'secret.', 'secret?', 'security!', 'security.', 'see', 'see,', 'see.', 'see?', 'seem', 'seemed', 'seems', 'seen', 'seen.', 'seen?', 'seize', 'seldom', 'selfish.', 'sell', 'sells', 'send', 'sense.', 'sensible.', 'sent', 'serious.', 'serious?', 'seriously?', 'serve', 'set', 'sewing.', 'sexy.', 'shadow', 'shaken.', 'shaking.', 'shall', 'shallow.', 'shame', 'shame!', 'share.', 'sharp.', 'shaved.', 'shaving.', 'she', \"she's\", 'she?', 'shiny.', 'ship!', 'ship.', 'shivered.', 'shocked.', 'shook', 'shoot', 'shoot!', 'shoot.', 'shooting.', 'short.', 'short?', 'shot', 'shot!', 'shot.', 'shot?', 'shots.', 'should', 'shouted.', 'shouting.', 'show', 'show.', 'show?', 'shower.', 'shrieked.', 'shrugged.', 'shut', 'shy', 'shy.', 'shy?', 'sick!', 'sick.', 'sick?', 'sickens', 'side', 'sighed.', 'sign', 'sign.', 'sign?', 'silent.', 'silly.', 'similar.', 'simple.', 'sincere.', 'sing', 'sing.', 'sing?', 'singer.', 'singing.', 'singing?', 'single.', 'single?', 'sings', 'sink.', 'sinking.', 'sinking?', 'sinned.', 'sisters.', 'sit', 'sitting.', 'six.', 'skate.', 'skate?', 'skating.', 'skeptical.', 'ski.', 'skiing.', 'skinny.', 'skull.', 'slacker.', 'slapped', 'sleep.', 'sleep?', 'sleeping.', 'sleeping?', 'sleepy!', 'sleepy.', 'slept', 'slept.', 'slim.', 'slipped.', 'slob.', 'sloshed.', 'slow.', 'slower.', 'slowly.', 'small.', 'small?', 'smart.', 'smarter.', 'smashed.', 'smell', 'smelled', 'smells', 'smile.', 'smile?', 'smiled.', 'smiling.', 'smiling?', 'smoke.', 'smoke?', 'smoked.', 'smokes.', 'smoking', 'smoking.', 'snack.', 'snag.', 'snap', 'sneaky.', 'sneeze', 'sneezed.', 'sneezing.', 'sniffling.', 'snore.', 'snores.', 'snoring.', 'snoring?', 'snow.', 'snow?', 'snowed.', 'snowing.', 'snowing?', 'so', 'so,', 'so.', 'sobbing.', 'sober.', 'softly.', 'sold', 'soldier.', 'solid.', 'some', 'some.', 'somebody.', 'someone', 'someone.', 'something.', 'son', 'son.', 'son?', 'song.', 'songs.', 'sons.', 'soon.', 'sore.', 'sorry', 'sorry,', 'sorry.', 'sounds', 'soup.', 'speak', 'speak.', 'speaking.', 'speaking?', 'special.', 'specific.', 'spiders.', 'spies.', 'spinach.', 'split.', 'spoiled.', 'spoke.', 'spoke?', 'spoons.', 'sports.', 'spring.', 'spy.', 'square.', 'squinted.', 'stabbed', 'staggered.', 'stalled.', 'stalling.', 'stamp.', 'stamps.', 'stand', 'stand.', 'stand?', 'standing.', 'standing?', 'star.', 'stare.', 'staring.', 'start', 'start!', 'start.', 'start?', 'started', 'started.', 'starve.', 'starved.', 'starving.', 'stay', 'stay.', 'stay?', 'stayed', 'stayed.', 'stayed?', 'staying.', 'staying?', 'steal.', 'step', 'stern.', 'stew.', 'still', 'still.', 'stink.', 'stinks.', 'stir', 'stoic.', 'stole', 'stoned.', 'stood', 'stood.', 'stood?', 'stop', 'stop!', 'stop.', 'stop?', 'stopped', 'stopped.', 'stopped?', 'stories.', 'straighten', 'stranded.', 'strange!', 'strange.', 'strange?', 'strict.', 'stroke.', 'strong.', 'stronger.', 'struggled.', 'stubborn.', 'stuck.', 'student.', 'students.', 'study', 'study.', 'studying.', 'stuffed!', 'stuffed.', 'stunned.', 'stuntman.', 'stupid.', 'stupid?', 'stutters.', 'succeed.', 'succeed?', 'succeeded!', 'succeeded.', 'succeeded?', 'successful.', 'sue', 'sued', 'sugar', 'sugar.', 'sugar?', 'suit', 'suits', 'summer', 'sun.', 'sunsets.', 'superb.', 'supper', 'supper.', 'support', 'support.', 'suppose', 'sure', 'sure.', 'sure?', 'surgery.', 'surprised.', 'surrender.', 'surrendered.', 'survive.', 'survived.', 'survived?', 'sushi.', 'suspect.', 'suspect?', 'swam.', 'swam?', 'sweated.', 'sweating.', 'sweaty.', 'sweep', 'sweet', 'sweet.', 'sweet?', 'sweets.', 'swim', 'swim.', 'swim?', 'swimming.', 'swims', 'swims.', 'swiss.', 'swore.', 'sympathize.', 'table.', 'tactful.', 'tag.', 'take', 'takes', 'taking', 'talent.', 'talk', 'talk!', 'talk.', 'talk?', 'talked.', 'talked?', 'talking.', 'talking?', 'talks', 'talks.', 'tall', 'tall.', 'tall?', 'taller.', 'taste', 'taste.', 'tastes', 'tasty?', 'taught', 'taxes.', 'tea', 'tea,', 'tea.', 'tea?', 'teach', 'teach?', 'teacher.', 'teaches.', 'team', 'team!', 'teased', 'teasing.', 'teenager.', 'tell', 'tell.', 'temp.', 'tempt', 'tempted.', 'ten.', 'tennis.', 'terrific!', 'terrific.', 'test.', 'tests.', 'texted', 'thank', 'thanks', 'thanks.', 'that', 'that!', \"that'd\", \"that'll\", \"that's\", 'that,', 'that.', 'that?', 'the', 'their', 'theirs.', 'them', 'them.', 'them?', 'then', 'then.', 'there', \"there's\", 'there.', 'there?', 'these', 'these.', 'these?', 'they', \"they'll\", \"they're\", \"they've\", 'they?', 'thief!', 'thief.', 'thin.', 'things', 'things.', 'things?', 'think', 'think.', 'thirsty.', 'thirsty?', 'thirty', 'thirty.', 'this', 'this!', \"this'll\", 'this.', 'this?', 'thorough.', 'those', 'those.', 'those?', 'thought', 'thought!', 'threat.', 'threw', 'thrilling!', 'through.', 'throw', 'ticklish.', 'tidy.', 'tidy?', 'tigers', 'tight.', 'till', 'time', \"time's\", 'time.', 'time?', 'timing.', 'tip?', 'tipsy.', \"tire's\", 'tired!', 'tired.', 'tired?', 'to', 'to.', 'today.', 'together.', 'tokyo.', 'told', 'told.', 'tolerant.', 'tom', 'tom!', \"tom'll\", \"tom's\", \"tom's.\", \"tom's?\", 'tom,', 'tom.', 'tom?', 'tomatoes.', 'tomorrow.', 'too', 'too.', 'too?', 'took', 'tools.', 'tooth', 'tortured.', 'touch', 'touch!', 'touch.', 'touched.', 'touching!', 'touchy.', 'tough', 'tough.', 'tourist.', 'towel.', 'tower.', 'town.', 'tragic!', 'train', 'trains.', 'trap.', 'trapped!', 'trapped.', 'trash.', 'travel', 'travel.', 'treat', 'treat.', 'tree.', 'tricked', 'tried', 'tried.', 'tries', 'tries.', 'tripped.', 'trips.', 'trouble.', 'truck.', 'true.', 'true?', 'trust', 'trusted', 'trusts', 'truth.', 'truth?', 'try', 'try!', 'try.', 'try?', 'trying.', 'tulips.', 'tuna.', 'tune.', 'turn', 'turn.', 'turn?', 'turned', 'turtles.', \"tv's\", 'tv.', 'tv?', 'twelve.', 'twice.', 'twin.', 'twitter.', 'two', 'two.', 'type!', 'type.', 'types', 'typical.', 'ufo.', 'ufo?', 'ugly.', 'unarmed.', 'unbelievable!', 'uncle.', 'understand.', 'understood.', 'undressing.', 'unemployed.', 'unfair.', 'unfazed.', 'unhappy.', 'unhurt.', 'uninsured.', 'unkind.', 'unlikely.', 'unlock', 'unlocked.', 'unlucky!', 'unlucky.', 'unmoved.', 'unstable.', 'untalented.', 'untidy.', 'unusual.', 'unwell.', 'up', 'up!', 'up,', 'up.', 'up?', 'upset.', 'upstairs.', 'urgent.', 'us', 'us.', 'us?', 'use', 'use.', 'use?', 'used.', 'useless.', 'using', 'usually', 'vague.', 'vain.', 'vanished.', 'vanished?', 'vegan.', 'very', 'vet.', 'vicious.', 'vigilant.', 'violent.', 'violin.', 'visa.', 'visited', 'voices.', 'volunteered.', 'volunteers.', 'vomited.', 'vote', 'vote.', 'vote?', 'voted.', 'wait', 'wait!', 'wait,', 'wait.', 'wait?', 'waited.', 'waiting.', 'wake', 'walk', 'walk.', 'walk?', 'walked', 'walked.', 'walking.', 'walks', 'walks.', 'want', 'want.', 'wanted', 'wants', 'war', 'war.', 'warm.', 'warn', 'warned', 'was', 'wash', \"wasn't\", 'wasted.', 'watch', 'watch.', 'watch?', 'watched', 'watchful.', 'watching.', 'watching?', 'water.', 'waved.', 'wax', 'way', 'way!', 'way.', 'we', \"we'd\", \"we'll\", \"we're\", \"we've\", 'we?', 'weak.', 'weakling.', 'wealthy.', 'weapon?', 'wear', 'weary.', 'wednesday.', 'weird!', 'weird.', 'weird?', 'welcome', 'welcome.', 'well', 'well,', 'well.', 'well?', 'went', 'wept.', 'were', 'west.', 'wet.', 'wet?', 'what', \"what'll\", \"what's\", 'what?', 'when', \"when's\", 'where', \"where's\", 'which', 'while.', 'whining.', 'whispered.', 'whistled.', 'whistling.', 'white.', 'white?', 'who', \"who'd\", \"who'll\", \"who's\", 'whose', 'why', 'why.', 'why?', 'wicked.', 'wide', 'wife', 'wife.', 'wife?', 'wig?', 'will', 'willing.', 'wimp.', 'win.', 'win?', 'wind', 'windy.', 'windy?', 'wine.', 'wine?', 'winked.', 'winners.', 'winning.', 'winning?', 'wins.', 'winter.', 'wipe', 'wise.', 'wish', 'wish.', 'with', 'with?', 'witty.', 'woke', 'wolf?', 'woman!', 'woman.', 'women', 'women.', 'won', 'won!', \"won't\", 'won.', 'won?', 'wonder', 'wonderful!', 'wonderful.', 'wood', 'woozy.', 'word.', 'wore', 'work', 'work,', 'work.', 'work?', 'worked', 'worked.', 'working.', 'working?', 'works', 'works.', 'worn', 'worried.', 'worry.', 'worse.', 'worth', 'would', 'wounded.', 'wow!', 'wrist', 'write', 'writer.', 'writing.', 'wrong.', 'wrong?', 'wrote', 'yawned.', 'yawning.', 'year!', 'years', 'yell.', 'yelled.', 'yelled?', 'yelling!', 'yelling.', 'yen.', 'yes,', 'yes-man.', 'yes.', 'yes?', 'yet.', 'yoga?', 'you', 'you!', \"you'd\", \"you'll\", \"you're\", \"you've\", 'you,', 'you.', 'you?', 'young.', 'your', 'yours.', 'yours?', 'yourself.', 'zoomed']\n",
            "Target Vocabulary ['$.', '%', '.', '10,00', '100', '112.', '12', '14', '18', '18?', '19', '19.', '3.', '30', '5', '65.', '7:45', '8:30', '9.15', '99', '<eos>', 'ab', 'ab!', 'ab.', 'abbiegen!', 'abbrechen.', 'abend', 'abend!', 'abend.', 'abendbrot', 'abendbrot?', 'abendessen', 'abends.', 'aber', 'abführen!', 'abgefahren.', 'abgelehnt.', 'abgemacht!', 'abgesagt.', 'abgesagt?', 'abgeschlossen.', 'abgeschnitten?', 'abgestimmt.', 'ablehnen.', 'abreißen.', 'absage.', 'absagen.', 'abscheulich.', 'abschluss.', 'abserviert.', 'absicht.', 'absolut', 'abstimmen.', 'absurd!', 'abwarten', 'abwesend.', 'ach,', 'achseln.', 'acht', 'acht!', 'acht.', 'achtzehn.', 'achtzig.', 'acker!', 'adoptiert.', 'adoptiert?', 'aha!', 'aha.', 'ahnung.', 'akne.', 'aktiv.', 'albern.', 'alle', 'alle!', 'alle.', 'allein', 'allein.', 'allein?', 'alleine.', 'alleine?', 'allen.', 'alles', 'alles.', 'als', 'alt', 'alt!', 'alt.', 'alter', 'alter.', 'am', 'amerikaner.', 'amerikaner?', 'amerikanerin.', 'amüsant.', 'amüsiere', 'amüsieren', 'amüsieren.', 'amüsierst', 'amüsiert', 'amüsiert.', 'an', 'an!', 'an.', 'an?', 'analphabet.', 'analphabetin.', 'anderer', 'anderes', 'anderes.', 'anders.', 'anfangen!', 'anfangen.', 'anfangen?', 'anfassen?', 'anfänger.', 'anfängerin.', 'angefahren.', 'angefangen.', 'angehalten.', 'angehalten?', 'angeheuert.', 'angekommen.', 'angekommen?', 'angel', 'angeln', 'angelogen.', 'angerufen.', 'angerufen?', 'angesagt.', 'angeschossen', 'angeschossen.', 'angeschossen?', 'angeschrieben.', 'angestellt?', 'angestrengt.', 'angetrunken.', 'angezogen.', 'angle', 'angreifen.', 'angriff', 'angriff!', 'angst', 'angst.', 'angst?', 'angsthase.', 'anhalten.', 'anhalten?', 'ankämpfen.', 'anmalen.', 'anruf.', 'anrufen.', 'anscheinend', 'anschließen?', 'ansehen.', 'ansicht.', 'anstrengen.', 'antworte', 'antworten', 'antworten.', 'antwortet', 'antwortete.', 'anwalt.', 'anwerben.', 'anwesend', 'anwesend.', 'anzeigen.', 'anzugeben!', 'apfel', 'applaudiert.', 'applaudierte.', 'applaudierten.', 'araber.', 'arbeit', 'arbeit!', 'arbeit,', 'arbeit.', 'arbeit?', 'arbeite', 'arbeiten', 'arbeiten!', 'arbeiten.', 'arbeitet', 'arbeitet.', 'arbeitete', 'arbeitete.', 'arbeitslos.', 'arm', 'arm!', 'arm.', 'arrogant!', 'artig.', 'arzt.', 'arzt?', 'asiaten.', 'asthma.', 'atheist.', 'atmete', 'attacke!', 'auch', 'auch.', 'auf', 'auf!', 'auf!“', 'auf,', 'auf.', 'auf?', 'aufdringlich.', 'aufgabe.', 'aufgeben.', 'aufgeben?', 'aufgeblasen.', 'aufgebracht.', 'aufgegeben.', 'aufgegossen.', 'aufgehört.', 'aufgehört?', 'aufgelegt.', 'aufgeregt!', 'aufgeschlossen.', 'aufgestanden.', 'aufgezogen.', 'aufgibt.', 'aufhalten.', 'aufhören', 'aufhören.', 'aufhören?', 'aufhört!', 'aufmerksam!', 'aufmerksam.', 'aufregend!', 'aufregend.', 'aufrichtig.', 'aufstehen!', 'aufstehen.', 'aufständische.', 'aufständischer.', 'aufzustehen.', 'augen', 'augen!', 'augen.', 'augenblick', 'augenblick!', 'augenblick.', 'augenblick...', 'augenblickchen!', 'aus', 'aus!', 'aus,', 'aus.', 'aus?', 'ausatmen!', 'ausbrechen!', 'auseinander.', 'ausgebrochen.', 'ausgebrochen?', 'ausgeflippt.', 'ausgegangen.', 'ausgegangen?', 'ausgehen.', 'ausgenutzt.', 'ausgerastet.', 'ausgeraubt', 'ausgeraubt.', 'ausgeruht.', 'ausgerutscht.', 'ausgeschieden?', 'ausgeschlossen!', 'ausgetrickst.', 'ausgezogen.', 'ausland.', 'ausreichend', 'ausrufen', 'ausruhen.', 'aussichtslos.', 'ausstehen.', 'aussteigen.', 'austern.', 'auswendig!', 'auszugehen.', 'autist.', 'auto', 'auto!', 'auto.', 'auto?', 'autor.', 'autos.', 'außer', 'aß', 'aß.', 'aß?', 'aßen', 'baby.', 'bach.', 'backen', 'bademantel', 'bald', 'bald.', 'ball.', 'banane', 'bananen.', 'bar.', 'barbarisch!', 'bares.', 'bargeld.', 'bart.', 'bauch!', 'bauchgefühl!', 'bauernhof.', 'baum.', 'baut', 'baute', 'beachte', 'beachten', 'beachtet', 'beachtete', 'becher?', 'bedankte', 'bedien', 'bedienen', 'bedient.', 'bedürftig.', 'beeil', 'beeile', 'beeilen', 'beeilen.', 'beeilt', 'beeindruckt.', 'befangen.', 'befehl.', 'befehle.', 'befinde', 'befindet', 'befreundet.', 'begegnet.', 'beginne', 'beginnen', 'beginnen.', 'beginnen?', 'beglückt.', 'begonnen.', 'begraben.', 'begreifen', 'begreifst', 'begreift', 'behalt', 'behalte', 'behalten', 'behalten.', 'behaltet', 'behalt’s!', 'beharrte.', 'behebe', 'beheben', 'beheben.', 'behilflich', 'bei', 'bei.', 'beichtete.', 'beide', 'beide.', 'beiden', 'beides.', 'beifall', 'beifall.', 'beigetragen.', 'beim', 'bein', 'beinahe', 'beisammen?', 'beiß', 'beißen.', 'beißt.', 'bekam', 'bekannt', 'bekannt.', 'bekenne', 'bekifft.', 'beklagt.', 'beklagte', 'bekomme', 'bekommen.', 'belassen', 'beleidigt.', 'beleidigung.', 'belieben', 'beliebige', 'beliebst', 'beliebt', 'beliebt.', 'beliebt?', 'bellen.', 'bellte.', 'belogen.', 'bemerkt.', 'bemerkt?', 'bemüht', 'beneide', 'benimm', 'benommen.', 'benutze', 'benutzen?', 'benutzt', 'benzin.', 'benötige', 'beobachte', 'beobachte.', 'beobachten', 'beobachten.', 'beobachtet', 'beobachtet.', 'bereit', 'bereit!', 'bereit.', 'bereit?', 'bereite', 'bereiten', 'bereiteten', 'bereits', 'bergmann.', 'berliner!', 'berliner.', 'beruf', 'beruhige', 'beruhigen', 'beruhigt', 'berät', 'berühmt.', 'berühmt?', 'berührend!', 'berührt.', 'bescheid', 'bescheid.', 'bescheid?', 'bescheiden.', 'bescheuert.', 'beschleunigt.', 'beschreibe', 'beschwer', 'beschwert.', 'beschwert?', 'beschwipst.', 'beschädigt?', 'beschäftige', 'beschäftigt', 'beschäftigt!', 'beschäftigt.', 'beschäftigt?', 'beseitigt?', 'besen.', 'besetzt.', 'besitze', 'besitzt', 'besoffen!', 'besoffen.', 'besonderes.', 'besonders', 'besonders.', 'besorgt', 'besorgt.', 'besser', 'besser.', 'bestand', 'beste.', 'besteht', 'bestellen?', 'besten.', 'bestens.', 'bestes!', 'bestes.', 'bestimmst.', 'bestürzt', 'bestürzt.', 'besuch', 'besuch.', 'besucht.', 'bete.', 'beten!', 'beten.', 'betet', 'betet.', 'betete.', 'betreiben', 'betreibst', 'betreibt', 'betrog.', 'betrog?', 'betrogen.', 'betrogen?', 'betrunken!', 'betrunken.', 'betrunken?', 'betrüblich.', 'betrübt.', 'betrüge', 'betrügen.', 'betrügt.', 'bett', 'bett!', 'bett.', 'bewaffnet.', 'beweg', 'bewege', 'bewegen', 'bewegen!', 'bewegen.', 'bewegen?', 'bewegt', 'bewegte', 'bewegung!', 'beweis', 'beweis.', 'beweise.', 'beweisen.', 'bewundere', 'bewundern', 'bewundernswert.', 'bewunderte', 'bewusstlos.', 'bewusstsein', 'bewusstsein.', 'bewölkt.', 'bezahle', 'bezahle.', 'bezahlen.', 'bezahlen?', 'bezahlst.', 'bezahlt.', 'bezahlt?', 'bezahlte', 'bezahlten.', 'bezaubernd.', 'beängstigen', 'beängstigend.', 'beängstigst', 'bier', 'bier!', 'bier.', 'bilden', 'bildet', 'billigt', 'bin', 'bin!', \"bin's\", \"bin's.\", 'bin.', 'bis', 'biss', 'bisschen', 'bissiger', 'bist', 'bist!', 'bitte', 'bitte!', 'bitte.', 'bitten.', 'blass', 'blass.', 'blau.', 'blau?', 'blauäugig.', 'bleib', 'bleibe', 'bleibe.', 'bleiben', 'bleiben!', 'bleiben.', 'bleiben?', 'bleibst,', 'bleibt', 'bleibt.', 'bleibt?', 'bleib’.', 'bleich', 'blendend.', 'blicke', 'blickte', 'blickten', 'blieb', 'blieb.', 'blieb?', 'blind.', 'blind?', 'blinzelte.', 'blond.', 'bluffe.', 'blumen', 'blumen.', 'blut', 'blut.', 'blut?', 'blutarmut.', 'blute.', 'blutet.', 'blutete.', 'blöd.', 'blödmann', 'blödmann.', 'blühen.', 'boden', 'boden!', 'bog', 'bohnen.', 'bohnere', 'boot.', 'boote', 'bord!', 'bord.', 'boss.', 'boston', 'boston.', 'boston?', 'botaniker.', 'botanikerin.', 'brach', 'brachte', 'brandneu.', 'brannte.', 'brannten.', 'brauche', 'brauchen', 'brauchst', 'braucht', 'brauchte', 'brauchten', 'braun.', 'braut', 'brav', 'brav.', 'brav?', 'brechen', 'brechen.', 'breit', 'breit.', 'bremse!', 'brennt.', 'briefmarke.', 'briefmarken.', 'brille.', 'brillenträger.', 'bring', 'bringe', 'bringen', 'bringen.', 'bringen?', 'bringt', 'brot.', 'brust', 'brutal.', 'brüder.', 'brüllte.', 'buch', 'buch!', 'buch.', 'buchstabier', 'bullen!', 'bus', 'bus.', 'bäcker.', 'bär?', 'bösartig.', 'böse', 'böse!', 'böse.', 'bücher.', 'bückte', 'bügeln.', 'camion.', 'cd.', 'cds.', 'chaot.', 'charme', 'chef.', 'chinese.', 'chinesin.', 'clever.', 'cnn', 'cola,', 'cool', 'cool.', 'cool?', 'cousins.', 'crew.', 'da', 'da.', 'da?', 'dabei', 'dabei!', 'dabei,', 'dabei.', 'dabei?', 'dach', 'dachschaden.', 'dachte', 'dafür', 'dafür.', 'dageblieben.', 'dagegen', 'dagegen!', 'dagegen.', 'daheim.', 'daheim?', 'dahin.', 'damit', 'damit!', 'damit?', 'dank!', 'dankbar.', 'danke', 'danke!', 'danke.', 'danken.', 'dankst', 'dann', 'dann!', 'daran', 'daran.', 'darauf.', 'daraus', 'daraus,', 'darf', 'darfst', 'darum', 'darum.', 'darüber', 'das', 'das!', 'das.', 'das?', 'dass', 'daumen!', 'davon', 'davon.', 'davongekommen.', 'davor', 'dazu', 'dazu.', 'dazusetzen?', 'dazwischengehen?', 'deckung!', 'deckung.', 'defekt.', 'dein', 'deine', 'deine.', 'deinem', 'deinen', 'deinetwegen', 'deins.', 'deins?', 'dem', 'den', 'den.', 'denk', 'denke', 'denke,', 'denken', 'denkt', 'denn', 'denn?', 'depressiv.', 'deprimiert.', 'der', 'der?', 'derjenige.', 'detailliere', 'deutlich!', 'diabetiker.', 'diabetikerin.', 'dich', 'dich!', 'dich,', 'dich.', 'dich?', 'dichter.', 'dick', 'dick!', 'dick.', 'dick?', 'dicker.', 'die', 'die.', 'die?', 'dieb!', 'dieb.', 'diene', 'dienst.', 'dies', 'diese', 'diese.', 'diese?', 'dieser', 'dieses', 'diesmal', 'ding.', 'ding?', 'dinge', 'dinge?', 'dir', 'dir!', 'dir,', 'dir.', 'dir?', 'diskret!', 'diät.', 'diät?', 'dj.', 'doch', 'doch!', 'doch,', 'dollar.', 'donnerwetter!', 'doof?', 'doofköpfe.', 'dort', 'dort!', 'dort.', 'dort?', 'dorthin!', 'dorthin.', 'dr.', 'drachen', 'dran', 'dran!', 'dran.', 'dran?', 'drauf!', 'drauf.', 'draus!', 'draußen!', 'draußen.', 'draußen?', 'drecksloch.', 'dreh', 'drehe', 'drehte', 'dreihundert', 'drein.', 'dreizehn', 'dreißig', 'dreißig.', 'dreißig?', 'drin!', 'drin.', 'drin?', 'dringend.', 'dringlich.', 'drinnen!', 'drinnen.', 'drum', 'drum!', 'drumrum.', 'drüben.', 'drüber!', 'drüber.', 'drück', 'drücken', 'drückst', 'drückt', 'drückte', 'drückten', 'du', 'du.', 'du?', 'dumm.', 'dumm?', 'dummen', 'dummkopf.', 'dummköpfe.', 'dunkel.', 'dunkel?', 'durch!', 'durch.', 'durch?', 'durcheinander!', 'durcheinander.', 'durchfallen.', 'durchgedreht.', 'durchgefallen.', 'durchschnittlich.', 'durchtrieben.', 'durst.', 'durst?', 'durstig.', 'duschen!', 'du’s?', 'dvd.', 'dämlich.', 'dösen.', 'döst.', 'döste', 'döste.', 'dünn.', 'dürfen', 'eben?', 'echt', 'echt.', 'echt?', 'egal', 'egal.', 'ego!', 'egoistisch.', 'ehefrau.', 'ehre.', 'ehrgeizig.', 'ehrlich.', 'ehrlich?', 'ehrlichkeit', 'ei!', 'ei.', 'eier', 'eier.', 'eiferer.', 'eifersüchtig.', 'eifersüchtig?', 'eifrig.', 'eigenartig.', 'eigenbrötler.', 'eilig.', 'eilt.', 'eilte', 'eilte.', 'ein', 'ein!', 'ein.', 'ein?', 'eindruck.', 'eindruck?', 'eine', 'eine!', 'eine.', 'eine?', 'einem', 'einen', 'einen!', 'einen.', 'einen?', 'einer', 'eines', 'eines.', 'einfach', 'einfach!', 'einfach.', 'einflussreich.', 'einfältig.', 'eingeatmet.', 'eingebildet.', 'eingebrochen.', 'eingeladen.', 'eingeladen?', 'eingelenkt.', 'eingeschlafen.', 'eingeschritten.', 'eingeschritten?', 'eingestellt.', 'eingestellt?', 'einig.', 'einige', 'einigermaßen', 'einladen.', 'einmal', 'einmal.', 'eins', 'eins!', 'eins.', 'eins?', 'einsam.', 'einsam?', 'einspruch.', 'einsteigen.', 'eintopf', 'eintreten.', 'eintreten?', 'eintritt', 'einverstanden.', 'einverstanden?', 'einziehen.', 'einzuwenden.', 'einzuwenden?', 'eis', 'eis.', 'eisen', 'eitel.', 'ekelhaft!', 'ekelhaft.', 'eklig.', 'elegant.', 'eltern.', 'empfindlich.', 'ende.', 'endlich', 'engel.', 'englisch.', 'engländer.', 'enorm.', 'enspann', 'enspannt', 'entferne', 'entfernt?', 'entgegen.', 'entkam.', 'entkam?', 'entkamen.', 'entkommen.', 'entkommen?', 'entlang!', 'entlassen', 'entlassen!', 'entlassen?', 'entledige', 'entledigen', 'entscheiden.', 'entscheidung.', 'entschieden.', 'entschlossen.', 'entschuldige', 'entschuldige,', 'entschuldigen', 'entschuldigt', 'entschuldigt.', 'entschuldigte', 'entschuldigung!', 'entschuldigung.', 'entspann', 'entspannen', 'entspannt.', 'entspannte', 'entspannten', 'entsperr', 'entsperrt.', 'enttäuscht.', 'entzwei.', 'er', 'er!', 'er.', 'er?', 'erbarmen.', 'erbaut?', 'erblasste.', 'erblindet.', 'erblindete.', 'erbrochen.', 'erbsen.', 'erbärmlich!', 'erfahren.', 'erfolg', 'erfolg.', 'erfolgreich', 'erfolgreich.', 'erfolgreich?', 'erfordert.', 'erfunden.', 'ergebe', 'erhitzt', 'erhob', 'erholt.', 'erholten', 'erinnere', 'erinnern', 'erinnert', 'erinnerte', 'erklären.', 'erkältet.', 'erkältung.', 'erlaube', 'erledige', 'erledigen', 'erledigen.', 'erledigt.', 'erleichterung!', 'erleichterung.', 'ernst', 'ernst!', 'ernst.', 'ernst?', 'ernstes?', 'ernsthaft!', 'ernsthaft?', 'ernähren', 'erreicht.', 'errötete.', 'erschießen.', 'erschoss', 'erschossen.', 'erschreckte', 'erschrocken.', 'erschöpft.', 'erschüttert.', 'ersetze', 'ersetzen', 'ersetzt', 'erstarrte.', 'erstaunlich.', 'erstaunt.', 'erste.', 'erster.', 'erstickt.', 'erteil', 'erteilen', 'erteilt', 'ertrank.', 'ertrinke.', 'ertrinken.', 'ertrunken?', 'ertüchtigt.', 'ertüchtigte', 'erwachsen,', 'erwarten.', 'erwartet.', 'erwischt.', 'erwischt?', 'erwürgt.', 'erzähl', \"erzähl's\", 'erzähle', 'erzählen', 'erzählen.', 'erzählt', 'erzählt.', 'erzählt?', 'erzählte', 'es', 'es!', 'es,', 'es.', 'es?', 'esse', 'esse.', 'essen', 'essen!', 'essen.', 'essen?', 'esst', 'etwas', 'etwas!', 'etwas.', 'etwas?', 'euch', 'euch!', 'euch,', 'euch.', 'euch?', 'euer', 'eulen', 'eure', 'eurem', 'eures?', 'ewig.', 'ex.', 'existieren.', 'existiert.', 'exknacki.', 'fach.', 'fachmann.', 'fahr', 'fahre', 'fahren', 'fahren.', 'fahren?', 'fahrrad', 'fair', 'fair!', 'fair.', 'faktum.', 'fall!', 'falle!', 'falle.', 'fallen', 'fallen!', 'falsch.', 'falsch?', 'falsche', 'familie.', 'fan?', 'fanatiker.', 'fand', 'fang', 'fange', 'fangen', 'fangen.', 'fangt', 'fantastisch!', 'farbe.', 'fass', 'fasse', 'fassen', 'fassen.', 'fasst', 'fassung.', 'fassungslos.', 'fast', 'faste.', 'fasten', 'fasten.', 'fastet', 'fastet.', 'fastet?', 'fasziniert.', 'faul', 'faul!', 'faul.', 'faulpelz.', 'faust!', 'faust.', 'fbi', 'fbi.', 'federn!', 'feg', 'feger.', 'fehlen.', 'fehler', 'fehlst', 'fehlt', 'fehlt.', 'fehlt?', 'feier', 'feiertage.', 'feiges', 'feigling.', 'feinde.', 'ferien.', 'fern!', 'fernsehen', 'fernsehen.', 'fernsehen?', 'fernseher', 'fernseher.', 'fertig', 'fertig.', 'fertig?', 'fest.', 'fett.', 'fettleibig.', 'feuchtes', 'feuer', 'feuer!', 'feuerwehrmann.', 'fieber.', 'fiel', 'fiel.', 'fiel?', 'fielen.', 'fies.', 'filme.', 'filmen!', 'finde', 'finden', 'finden.', 'findet', 'fing', 'finster', 'fisch', 'fisch,', 'fisch.', 'fische', 'fische.', 'fische?', 'fischen', 'fit.', 'fix', 'fix!', 'flau.', 'fledermaus?', 'fleisch', 'fleisch,', 'fleisch.', 'fleischhauer.', 'flennte.', 'fliege', 'fliege!', 'fliegen', 'fliegen.', 'fliegende', 'fluch.', 'fluchte.', 'flugzeug', 'flugzeug.', 'flüsterte.', 'folge', 'folgen', 'folgen.', 'folgen?', 'folgt', 'folgte', 'ford.', 'form.', 'form?', 'fort!', 'fort.', 'fortfahren.', 'fortgehen.', 'fortgeschickt.', 'foto.', 'frag', 'frage', 'frage!', 'fragen', 'fragen,', 'fragen.', 'fragen?', 'fragst', 'fragt', 'fragte', 'fragte,', 'fragte.', 'fragwürdig.', 'französisch', 'französisch!', 'französisch.', 'französische.', 'französischunterricht.', 'frau', 'frau!', 'frau.', 'frau?', 'frauen', 'frauen.', 'frei', 'frei!', 'frei.', 'frei?', 'freier', 'freigeschaltet.', 'freiwillig', 'freiwillig.', 'fressen', 'freude', 'freude.', 'freund', 'freund.', 'freunde.', 'freundinnen.', 'freundlich', 'freundlich!', 'freundlich.', 'freut', 'freute', 'frieden!', 'frieden.', 'friere.', 'friert.', 'froh.', 'frohe', 'frohes', 'frostig.', 'frucht.', 'fröhliche', 'früh', 'früh.', 'frühaufsteher.', 'frühling.', 'frühzeitig.', 'fuchs.', 'fuchsteufelswild.', 'fuhr', 'fuhr.', 'funktionieren.', 'funktioniert', 'funktioniert.', 'funktioniert?', 'funktioniert’s?', 'furchtlos.', 'fuß', 'fuß.', 'fußboden.', 'fährst.', 'fährt', 'fährt.', 'fällt.', 'fälschung.', 'fängst', 'fängt', 'füge', 'fügte', 'fühl', 'fühle', 'fühlt', 'fühlte', 'führe', 'führen', 'führt', 'führung', 'füller', 'füller.', 'fünf', 'fünfundvierzig.', 'fünfzig', 'für', 'fürchte', 'fürchte,', 'fürchten', 'fürchterlich.', 'fürchtet', 'fürs', 'füttere', 'füttert', 'füße', 'füße.', 'füßen', 'gab', 'gaben', 'gang.', 'ganz', 'gar', 'garantiere', 'gas', 'gas!', 'gas.', 'geantwortet?', 'gearbeitet.', 'geb', 'gebacken.', 'gebaut.', 'gebaut?', 'gebe', 'gebeichtet.', 'geben', 'gebeten.', 'gebetet.', 'gebetet?', 'gebissen', 'gebissen.', 'gebissen?', 'geblieben.', 'geblieben?', 'geblinzelt.', 'gebracht', 'gebracht.', 'gebrauch', 'gebrauch.', 'gebrauchen.', 'gebraucht.', 'gebrechlich.', 'gebrochen.', 'gebt', 'geburtstag!', 'gebühr?', 'gedacht.', 'gedanke!', 'gedanken.', 'gedauert.', 'gedichte.', 'geduldig!', 'geduldig.', 'gedächtnis', 'gedächtnisverlust.', 'geeignet?', 'gefahr.', 'gefahren.', 'gefallen', 'gefallen!', 'gefallen.', 'gefallen?', 'gefangen.', 'gefangen?', 'gefangene.', 'gefangener.', 'gefehlt.', 'gefeuert.', 'gefeuert?', 'gefiel', 'gefiele', 'gefolgt.', 'gefoltert.', 'gefragt.', 'gefragt?', 'gefressen.', 'gefunden!', 'gefunden.', 'gefunden?', 'gefährlich.', 'gefällst', 'gefällt', 'gefälscht.', 'gefängnis.', 'gefügt.', 'gefühllos.', 'geführt.', 'gefüttert.', 'gegangen.', 'gegangen?', 'gegeben.', 'gegessen.', 'gegessen?', 'geglaubt.', 'gegraben.', 'gegähnt.', 'geh', 'geh,', 'geh.', 'gehabt!', 'gehabt.', 'gehackt.', 'gehalten.', 'gehaltserhöhung.', 'gehasst.', 'gehauen!', 'gehauen.', 'gehe', 'gehe.', 'geheilt.', 'geheim.', 'geheimnis.', 'geheimnis?', 'geheiratet.', 'gehen', 'gehen!', 'gehen.', 'gehen?', 'geheult.', 'geholfen.', 'geholfen?', 'gehorch', 'gehorchen.', 'gehorcht', 'gehorcht.', 'gehorchte.', 'gehst', 'geht', \"geht's\", \"geht's!\", \"geht's,\", \"geht's.\", \"geht's?\", 'geht.', 'geht?', 'gehts', 'geht’s', 'geht’s.', 'gehänselt', 'gehöre', 'gehören', 'gehörlos.', 'gehörst', 'gehört', 'gehört.', 'geige.', 'geil.', 'geirrt.', 'geister', 'geizig.', 'gejubelt?', 'gekauft.', 'gekauft?', 'geklappt.', 'geklatscht.', 'geknuddelt.', 'gekocht.', 'gekommen!', 'gekommen.', 'gekommen?', 'gekotzt.', 'gekündigt.', 'geküsst.', 'geküsst?', 'gelacht.', 'gelacht?', 'gelangweilt', 'gelangweilt.', 'gelassen!', 'gelassen.', 'gelaufen.', 'gelaunt.', 'geld', 'geld!', 'geld.', 'geldautomaten?', 'gelegen.', 'gelenke', 'gelesen.', 'geliebt.', 'gelogen!', 'gelogen.', 'gelächelt.', 'gelächelt?', 'gelähmt.', 'gemacht,', 'gemacht.', 'gemacht?', 'gemein', 'gemein.', 'gemeint', 'gemeint.', 'gemeldet.', 'gemogelt.', 'gen', 'genarrt.', 'genau', 'genau!', 'genauer', 'geneckt.', 'genervt.', 'genie.', 'genies.', 'genieße', 'genießen', 'genommen.', 'genug.', 'genügen.', 'gepflegt.', 'gepäck.', 'gerade', 'gerade.', 'gerade?', 'gerannt.', 'gerannt?', 'geraten.', 'geraucht.', 'gerecht.', 'gerecht?', 'gerechtigkeit.', 'gerettet.', 'geriet', 'gerissen.', 'gern', 'gern.', 'gerne', 'gerne.', 'gerochen.', 'geruch.', 'gerufen.', 'gerufen?', 'gerücht.', 'gerührt.', 'gesagt', 'gesagt!', 'gesagt,', 'gesagt.', 'gesagt?', 'geschafft!', 'geschafft.', 'geschehen.', 'geschehen?', 'gescheit', 'gescheit.', 'gescheitert.', 'geschenk.', 'geschenke', 'geschichte.', 'geschichten.', 'geschickt!', 'geschickt.', 'geschickt?', 'geschieden.', 'geschieht', 'geschlafen.', 'geschlafen?', 'geschlagen.', 'geschlagen?', 'geschlossen.', 'geschmeichelt.', 'geschmäcker', 'geschnappt', 'geschnappt.', 'geschnarcht?', 'geschneit.', 'geschnitten.', 'geschossen.', 'geschrieben.', 'geschrieben?', 'geschrien.', 'geschrien?', 'geschummelt.', 'geschummelt?', 'geschwitzt.', 'geschwommen.', 'geschwommen?', 'geschwänzt.', 'geschäft.', 'geschämt.', 'gesehen', 'gesehen!', 'gesehen.', 'gesehen?', 'gesellen?', 'gesellte', 'gesetz', 'gesetz.', 'gesetzlich', 'gesetzloser.', 'gesetzt.', 'gesicht', 'gesicht.', 'gesiegt.', 'gesorgt,', 'gesorgt.', 'gespendet.', 'gesprochen.', 'gesprochen?', 'gesprungen.', 'gestand.', 'gestanden.', 'gestartet.', 'gestatten', 'gesteinigt.', 'gestiegen.', 'gestochen.', 'gestohlen.', 'gestolpert.', 'gestoppt.', 'gestorben.', 'gestorben?', 'gestritten.', 'gestürzt.', 'gesund!', 'gesund.', 'gesundheit.', 'gesungen.', 'gesungen?', 'gesündigt.', 'getan.', 'getan?', 'getreten.', 'getroffen!', 'getroffen.', 'getrunken.', 'getrunkten.', 'getötet.', 'getötet?', 'gewachsen.', 'gewalttätig.', 'gewann.', 'gewannen.', 'gewappnet!', 'gewarnt.', 'gewarnt?', 'gewartet.', 'geweckt.', 'gewehr.', 'geweint.', 'geweint?', 'gewesen.', 'gewesen?', 'gewinne', 'gewinne.', 'gewinnen', 'gewinnen.', 'gewinnen?', 'gewinner.', 'gewinnt', 'gewinnt.', 'gewinnt?', 'gewissen.', 'gewitzt.', 'gewonnen', 'gewonnen!', 'gewonnen.', 'gewonnen?', 'geworden.', 'geworden?', 'gewusst.', 'gewusst?', 'gewählt.', 'gewählt?', 'gezahlt.', 'gezeigt.', 'gezwickt.', 'gezögert.', 'geöffnet.', 'gib', 'gibt', \"gibt's\", 'gibts', 'gibt’s', 'gierig.', 'gift.', 'ging', 'ging.', 'gingen', 'gingen.', 'glas.', 'glatze.', 'glatze?', 'glatzköpfig.', 'glaube', 'glaube,', 'glauben!', 'glaubte', 'gleich', 'gleich.', 'glocke', 'glotzen.', 'gluckste.', 'glänzt.', 'glück', 'glück!', 'glück.', 'glücklich', 'glücklich.', 'glücklich?', 'glückliches', 'glücksspiel.', 'glückwunsch', 'gnadenlos!', 'gnädig!', 'gold.', 'golf', 'gott', 'gott!', 'gott.', 'grab', 'gras.', 'gratis.', 'grausam.', 'grauslich.', 'greif', 'greifen', 'griesgram.', 'grimassen.', 'grimassierte.', 'grinsen.', 'grinste.', 'grippe.', 'groß', 'groß.', 'groß?', 'großartig', 'großartig!', 'großartig.', 'großartig?', 'große', 'großer', 'großer.', 'grub', 'grund', 'grund.', 'gruselig.', 'gruselig?', 'gräme', 'größer.', 'größere', 'größte.', 'grün.', 'gründlich', 'gründlich.', 'grüß', 'grüßen.', 'guck', 'gucken!', 'gucken.', 'gut', 'gut!', 'gut,', 'gut.', 'gut?', 'gute', 'guten', 'guter', 'gutes', 'gutgehen.', 'gähnt.', 'gähnte.', 'gäste.', 'gütig.', 'haar.', 'haarsträubend.', 'hab', \"hab's\", \"hab's.\", 'habe', 'habe!', 'haben', \"haben's\", 'haben.', 'haben?', 'habgierig.', 'habs!', 'habt', 'hab’s', 'hab’s!', 'hagelt.', 'haken.', 'halb', 'halbiere', 'half', 'half.', 'halfen', 'hallo', 'hallo!', 'hallo,', 'hallo.', 'halt', 'halte', 'halten', 'halten!', 'haltet', 'halt’s', 'hammer!', 'hammertyp.', 'hand!', 'hand.', 'handele!', 'handeln', 'handelsvertreter.', 'handelt!', 'handgelenk', 'handschellen', 'handtuch.', 'harmlos.', 'harre', 'hart', 'hart.', 'harvard.', 'hasse', 'hassen', 'hasst', 'hasste', 'hassten', 'hast', \"hast's\", 'hat', 'hat!', \"hat's\", 'hatte', 'hatten', 'hat’s', 'hau', 'hauptgeschäftszeit.', 'hauptverkehrszeit.', 'haus.', 'hausarrest.', 'hause', 'hause!', 'hause,', 'hause.', 'hause?', 'heb', 'hebe', 'heben', 'hebt', 'heilige.', 'heiliger.', 'heim!', 'heim.', 'heimweh.', 'heirate', 'heiratete', 'heiß', 'heiß.', 'heiß?', 'heiße', 'heißen', 'heißer', 'heißt', 'held.', 'helden.', 'heldenhaft.', 'helfe', 'helfe.', 'helfen', 'helfen!', 'helfen.', 'helfen?', 'helfende', 'helft', 'hellwach.', 'her!', 'her,', 'her.', 'heran!', 'herauf.', 'heraus!', 'heraus.', 'herausbekommen.', 'herbeigeführt.', 'herbeigewinkt.', 'herbeigewunken.', 'herbst', 'herbst.', 'herein', 'herein!', 'herein,', 'herein.', 'hereingelegt.', 'herrlich!', 'herum.', 'herunter!', 'herunter.', 'hervorragend!', 'hervorragend.', 'herz', 'herzlichen', 'hetz', 'heulen.', 'heult.', 'heulte.', 'heute', 'heute.', 'heute?', 'hey,', 'hickse', 'hielt', 'hielten', 'hier', 'hier!', 'hier,', 'hier.', 'hier?', 'hieressen?', 'hierher!', 'hierher.', 'hilf', 'hilfe!', 'hilfe.', 'hilflos.', 'hilfreich.', 'hilfst', 'hilft', 'hilft.', 'himmelt', 'hin', 'hin!', 'hin.', 'hinauf.', 'hinaus.', 'hinein.', 'hineingehen!', 'hineingehen.', 'hinfahren.', 'hingebungsvoll.', 'hingefallen.', 'hingegangen.', 'hingegangen?', 'hingehen.', 'hingesehen.', 'hinkt.', 'hinlegen!', 'hinreißend.', 'hinsetzen?', 'hinten!', 'hinter', 'hintergrund.', 'hinterhalt!', 'hinterher.', 'hinterhältig.', 'hinterlistig.', 'hinters', 'hinunter!', 'hinweg.', 'hinzu.', 'hinüber.', 'hirsch?', 'hobby.', 'hoch', 'hoch!', 'hoch.', 'hochgehen!', 'hochschule', 'hoffe', 'hoffe,', 'hoffnung', 'hoffnung.', 'hoffnungen', 'hoffnungslos.', 'hol', \"hol's\", 'hole', 'holen', 'holen.', 'holt', 'holz', 'horizont.', 'hosenträger.', 'huhn.', 'humpelt.', 'hund', 'hund!', 'hund.', 'hunde', 'hunde.', 'hundewelpen.', 'hunger', 'hunger!', 'hunger.', 'hunger?', 'hungrig!', 'hungrig.', 'hungrig?', 'huste', 'huste.', 'hustete.', 'hut.', 'hut?', 'hälfte.', 'hälften.', 'hält', 'hältst.', 'hämisch.', 'hände', 'hände.', 'händige', 'hängt', 'hässlich.', 'hätte', 'hätten', 'höflich.', 'höflich?', 'höhe', 'höher!', 'hölle.', 'hör', 'höre', 'höre.', 'hören', 'hören.', 'hören?', 'hörig.', 'hörst', 'hört', 'hörte', 'hörten', 'hübsch.', 'hüfte', 'hülf!', 'ich', 'ich!', 'ich,', 'ich.', 'ich?', 'ideal.', 'idee.', 'idiot!', 'idiot.', 'idioten.', 'idol.', 'ignorier', 'ignoriere', 'ignorieren', 'ignoriert', 'ignoriert.', 'ignorierte', 'ihm', 'ihm!', 'ihm.', 'ihn', 'ihn!', 'ihn.', 'ihn?', 'ihnen', 'ihnen.', 'ihnen?', 'ihr', 'ihr!', 'ihr.', 'ihr?', 'ihre', 'ihre.', 'ihrem', 'ihren', 'ihrer!', 'ihrer.', 'ihres.', 'ihres?', 'ihr’s?', 'illegal.', 'im', 'imbiss!', 'immer', 'immer.', 'immun.', 'improvisiert.', 'improvisierte.', 'in', 'inkorrekt.', 'inne.', 'innen.', 'ins', 'insekten.', 'intensiv.', 'interessiert', 'interessiert.', 'interessiert’s.', 'ipod.', 'irgendwelche', 'irgendwen!', 'irre', 'irre.', 'irren', 'irren.', 'irrst', 'irrt', 'iss', 'isst', 'isst.', 'ist', 'ist,', 'ist.', 'ja', 'ja!', 'ja,', 'ja.', 'ja?', 'jagen.', 'jahr!', 'jahre', 'jammert.', 'japan.', 'japaner.', 'japaner?', 'japanerin.', 'japste.', 'jasager.', 'jazz.', 'jazzmusik.', 'jeden', 'jeder', 'jemand', 'jemand?', 'jemanden', 'jemanden.', 'jesuit.', 'jesus', 'jetzt', 'jetzt!', 'jetzt,', 'jetzt.', 'jetzt?', 'job.', 'joggen.', 'jubelte.', 'jubelten.', 'jung', 'jung.', 'junge', 'junge!', 'junge.', 'jungen', 'jungen.', 'junggeselle?', 'jungs', 'jungs.', 'juristen', 'juristen.', 'jäger.', 'kaffee', 'kaffee.', 'kaffee?', 'kahl.', 'kalt', 'kalt.', 'kalt?', 'kam', 'kam.', 'kam?', 'kamele.', 'kamen', 'kanadier.', 'kandidiert', 'kann', \"kann's.\", 'kannst', 'kannte', 'kannten', 'kapier', 'kapierst', 'kapiert.', 'kapiert?', 'kapitulierten.', 'kaputt', 'kaputt.', 'kaputt?', 'kaputtgemacht.', 'kaputtgemacht?', 'karaoke.', 'karotten.', 'karte!', 'karte.', 'kasse.', 'kater.', 'katze', 'katze.', 'katze?', 'katzen', 'katzen.', 'katzen?', 'kaue', 'kauf', 'kaufe', 'kaufen', 'kaufen.', 'kaufen?', 'kaufte', 'kauften', 'kaugummi.', 'kaum', 'kaviar', 'kein', 'keine', 'keinem!', 'keinen', 'keinen.', 'keiner', 'keiner.', 'keinster', 'kekse', 'kekse.', 'kenne', 'kennen', 'kennen.', 'kennst', 'kennt', 'kenntnis', 'ketchup.', 'keucht.', 'kicherte.', 'kiefer', 'kind.', 'kinder', 'kinder.', 'kirche.', 'kitzlig.', 'klappen.', 'klappt', 'klappt.', 'klar!', 'klar.', 'klarkommen.', 'klassiker.', 'klatschen!', 'klatschte.', 'klavier.', 'kleber.', 'klein.', 'klein?', 'kleinen', 'klettere', 'klettern', 'klettert', 'klingt', 'klug!', 'klug.', 'klüger.', 'knaben', 'knapp', 'knapp!', 'knapp.', 'knicken.', 'knie', 'kniete', 'kniete.', 'kniff', 'knoblauch.', 'koch', 'koch.', 'koche', 'kochen', 'kochen.', 'kochen?', 'kocht', 'kocht.', 'komisch.', 'komisch?', 'komm', 'komm!', 'komm,', 'kommando.', 'komme', 'komme.', 'kommen', 'kommen.', 'kommen?', 'kommentar.', 'kommst', 'kommt', 'kommt!', 'kommt,', 'kommt.', 'kommt?', 'konnte', 'konnten', 'kontakt', 'kontrolle.', 'kontrollier', \"kontrollier's\", 'kontrollieren', 'kontrolliert', \"kontrolliert's\", 'konzentrier', 'konzentrieren.', 'konzentriert.', 'kopf', 'kopfschmerzen.', 'kopfweh.', 'kopie.', 'koreanisch.', 'korrekt.', 'koste', 'kostenlos?', 'kostet', 'krank', 'krank!', 'krank.', 'krank?', 'krankenpfleger.', 'krankenpflegerin.', 'krankenschwester.', 'kreativ!', 'kreativ.', 'krebs.', 'krebs?', 'kredit.', 'kreis.', 'kreischte.', 'krieg', 'krieg.', 'kriege', 'krone.', 'krüppel.', 'kuchen.', 'kuck', 'kuli.', 'kunst.', 'kunst?', 'kurz', 'kurz!', 'kurz.', 'kuss!', 'kuss.', 'käfig', 'kämpfe.', 'kämpfen!', 'kämpfen.', 'kämpfen?', 'kämpfte.', 'käse.', 'köchin.', 'können', 'könnt', 'könnte', 'könnten', 'könntest', 'könntet', 'köstlich.', 'kühe', 'kühl.', 'kümmer', 'kümmere', 'kümmern', 'kümmern.', 'kümmert', 'kümmert’s?', 'kündigen.', 'kündigten.', 'künstler.', 'künstlerisch', 'küss', 'küsse', 'küssen', 'küssen?', 'küsst', 'küsste', 'küssten', 'labil.', 'lach', 'lachen', 'lachen!', 'lachen.', 'lachs.', 'lacht.', 'lacht?', 'lachte.', 'lachten.', 'lag', 'lage', 'lage?', 'lama?', 'land!', 'landkarte.', 'lang', 'lang!', 'lang.', 'lange', 'langsam', 'langsam!', 'langsam.', 'langsamer.', 'langweile', 'langweilen', 'langweilig!', 'langweilig.', 'langweilig?', 'langweilst', 'langweilt', 'langweilte', 'las', 'las.', 'lasagne.', 'lass', 'lasse', 'lassen', 'lassen.', 'lasset', 'lasst', 'laster.', 'lastwagen.', 'lauf', 'lauf!', 'laufe', 'laufen.', 'laufen?', 'laufenden.', 'laufpass', 'laufpass.', 'laune.', 'launisch.', 'laut.', 'laut?', 'lauter!', 'lauter,', 'lauter.', 'lautet', 'leb', 'lebe', 'leben', 'leben!', 'leben.', 'leben?', 'lebendig.', 'lebt', 'lebt!', 'lebt.', 'lecker.', 'leckt.', 'ledig.', 'leer.', 'leg', 'legal?', 'legastheniker.', 'legasthenikerin.', 'legen', 'legt', 'legte', 'lehnte', 'lehrer.', 'lehrerin.', 'lehrst', 'leicht', 'leicht!', 'leicht.', 'leichtgläubig.', 'leid', 'leid,', 'leid.', 'leide', 'leiden.', 'leider', 'leidet', 'leih', 'leihe', 'leine!', 'leise!', 'leise.', 'leitung.', 'lenkte', 'lern', 'lerne', 'lerne.', 'lernen', 'lernen!', 'lernen.', 'lernst', 'lernt', 'lese', 'lesen', 'lesen.', 'lesen?', 'lest', 'letzte.', 'letzter.', 'leugnen', 'leugnest', 'leute!', 'leute,', 'licht', 'lieb', 'liebe', 'liebe.', 'liebe?', 'lieben', 'lieben.', 'liebenswert.', 'liebenswürdig.', 'lieber', 'lieber.', 'liebevoll.', 'liebst', 'liebt', 'liebt.', 'liebte', 'liebten', 'lied', 'lied.', 'lieder.', 'lief', 'lief.', 'lieg', 'liege', 'liegen', 'liegst', 'liegt', 'lies', 'liest', 'liest.', 'ließ', 'linkshänder.', 'lippen', 'lippen.', 'liste', 'liste.', 'lkw.', 'loch', 'loch.', 'locker!', 'locker,', 'log.', 'logisch.', 'london.', 'los', 'los!', 'los,', 'los.', 'los?', 'losgehen.', 'loslegen.', 'luft.', 'lustig!', 'lustig.', 'lustig?', 'lächel', 'lächeln!', 'lächeln.', 'lächelt', 'lächelt.', 'lächelte', 'lächelte.', 'lächelten.', 'länger.', 'lärm.', 'lässt', 'lästig.', 'läufer.', 'läuferin.', 'läufst.', 'läuft', 'läuft.', 'läutete.', 'löffel.', 'löwe.', 'löwen.', 'lüge', 'lüge.', 'lügen', 'lügen!', 'lügen.', 'lügner', 'lügner.', 'lügnerin.', 'lügst', 'lügst!', 'lügst.', 'lügt', 'lügt.', 'mach', \"mach'\", \"mach's\", \"mach's,\", 'mach,', 'machbar.', 'mache', 'mache,', 'machen', 'machen!', 'machen.', 'machen?', 'machst', 'macht', 'macht,', 'macht.', 'machte', 'mach’s', 'mag', 'mager.', 'magersüchtig.', 'magst', 'mahjong.', 'mahjongg.', 'mal', 'mal!', 'mal,', 'mal.', 'maler.', 'malt.', 'malte.', 'mama', 'mama.', 'mama?', 'man', 'manches.', 'mandeln.', 'mann', 'mann!', 'mann.', 'mannschaft', 'mantel!', 'mantel.', 'maria', 'maria,', 'maria.', 'mary', 'mary.', 'mathe', 'mathe.', 'mathematik.', 'mattscheibe!', 'maul!', 'maulte.', 'maus', 'maus.', 'meckerfritze.', 'meckern.', 'meditiere', 'meditiere.', 'meer.', 'meeresfrüchte.', 'mehr', 'mehr.', 'mehr?', 'meidet', 'mein', 'meine', 'meine.', 'meine?', 'meinem', 'meinen', 'meinen.', 'meiner', 'meines.', 'meines?', 'meins', 'meins.', 'meins?', 'meinst', 'meinst.', 'meint', 'meint.', 'meinte', 'meinung.', 'meinung?', 'melde', 'melden', 'meldet', 'meldete', 'meldeten', 'melodie.', 'menge.', 'mensch', 'mensch.', 'menschen', 'menschlich.', 'merk', 'merken.', 'merkt', 'merkwürdig!', 'mich', 'mich!', 'mich,', 'mich.', 'mich?', 'miesepeter.', 'milch', 'milch.', 'minderjährig.', 'minenarbeiter.', 'minute!', 'minute.', 'mir', 'mir!', 'mir,', 'mir.', 'mir?', 'misch', 'mist.', 'mit', 'mit!', 'mit.', 'mit?', 'mitbringen.', 'miteinander', 'miteinander!', 'mitfahren.', 'mitgebracht.', 'mitkommen.', 'mitkriegen.', 'mitmachen?', 'mitnehmen', 'mitnehmen?', 'mittag', 'mittag.', 'mittagessen', 'mittagessen?', 'mittellos.', 'mitten', 'mitternacht.', 'mittwoch.', 'mochte', 'mochten', 'modeerscheinung.', 'mogeln.', 'mogelt.', 'mollig.', 'moment', 'montag', 'montag!', 'montag.', 'montage', 'mordsspaß.', 'morgen', 'morgen!', 'morgen.', 'moslem.', 'motiviert.', 'motor', 'motorradfahrer.', 'motzte.', 'mumm', 'mumm.', 'mund', 'murren.', 'murrte.', 'musik', 'musik.', 'musiker.', 'musikerin.', 'muss', 'musst', 'musste', 'mussten', 'mut.', 'mutig!', 'mutig.', 'mutter', 'mutter.', 'mutter?', 'mythos.', 'mächtig.', 'mädchen', 'mädchen.', 'mädels!', 'männer', 'männer.', 'männer?', 'mäuse.', 'möchte', 'möchten', 'möge', 'mögen', 'mögen.', 'möglich!', 'möglich.', 'möglich?', 'mönch.', 'müde', 'müde!', 'müde.', 'müde?', 'mühe', 'mühe.', 'mühelos', 'müll.', 'münze.', 'mürrisch.', 'müssen', 'müsst', 'na', 'na,', 'nach', 'nach!', 'nach.', 'nachdenken.', 'nachgegeben.', 'nachgeschaut.', 'nachlassen!', 'nachprüfen.', 'nachrichten.', 'nachschauen.', 'nachsehen.', 'nacht', 'nacht!', 'nacht.', 'nachtisch.', 'nachts.', 'nacken', 'nackenschmerzen.', 'nackt.', 'nagelneu.', 'nah.', 'nahe.', 'nahm', 'nahrung.', 'naiv.', 'name.', 'nannte', 'narr.', 'nase', 'nase.', 'nass.', 'nass?', 'natur.', 'natürlich!', 'natürlich.', 'nebel.', 'neblig.', 'neblig?', 'neckisch.', 'nehme', 'nehmen', 'nehmen!', 'nehmen.', 'nehmt', 'nein', 'nein,', 'nein.', 'nein?', 'nerv', 'nerven.', 'nervt', 'nervt.', 'nervös.', 'nervös?', 'nesselsucht.', 'nett', 'nett!', 'nett.', 'nett?', 'netten', 'netter', 'netz.', 'netztagebuch.', 'neu.', 'neu?', 'neuen', 'neuer', 'neues', 'neues.', 'neues?', 'neugierig.', 'neun.', 'neutral.', 'nicht', 'nicht!', 'nicht,', 'nicht.', 'nicht?', 'nichts', 'nichts!', 'nichts.', 'nichtsnutz.', 'nickerchen.', 'nickt.', 'nickte', 'nickte.', 'nie', 'nie!', 'nie.', 'nieder.', 'niedergeschlagen.', 'niederträchtig.', 'niedlich.', 'niedrig.', 'niemand', 'niemand,', 'niemand.', 'niemandem!', 'niemandem.', 'niemanden', 'niemanden.', 'niese', 'niese.', 'nieste.', 'niete!', 'niete.', 'nietenhose', 'nietenhose.', 'nimm', \"nimm's\", 'noch', 'noch?', 'nochmal', 'nochmal.', 'nochmals', 'nochmals.', 'normal.', 'normal?', 'normalerweise', 'notizen.', 'notruf', 'nudeln.', 'null!', 'nummer', 'nummer!', 'nun', 'nur', 'nur!', 'nutze', 'nutzlos.', 'nächste.', 'nächster', 'nächstes', 'nächstes?', 'nähe.', 'nähe?', 'nähen.', 'näher!', 'näher.', 'näherte', 'nähte.', 'nörgler.', 'nötig.', 'nüchtern.', 'nüsse.', 'nützlich', 'nützt', 'o.k.', 'ob', 'obacht!', 'obdachlos.', 'oben', 'oben.', 'oberflächlich.', 'objektiv.', 'obst.', 'obszön.', 'oder', 'ofen', 'offensichtlich.', 'offizier.', 'oft', 'oft.', 'oh,', 'ohne', 'ohnmacht.', 'ohnmächtig', 'ohnmächtig.', 'ohr', 'ohr.', 'ohren', 'ok', 'ok.', 'okay', 'okay,', 'okay.', 'okay?', 'onkel.', 'online.', 'operiert', 'optimist.', 'optimistisch.', 'ordentlich.', 'ordentlich?', 'ordnung', 'ordnung.', 'ordnung?', 'ostern!', 'paar.', 'pack', 'packt.', 'paddel', 'paddeln', 'pandas.', 'panik', 'panik.', 'pantoffelheld.', 'papa.', 'papier.', 'pappsatt.', 'paris.', 'paris?', 'park.', 'parteiisch.', 'partner.', 'partys.', 'pass', 'passen', 'passieren?', 'passiert', 'passiert!', 'passiert.', 'passierte?', 'passt', 'patient.', 'patientin.', 'pause.', 'pazifist.', 'pazifistin.', 'pech', 'pech!', 'pech.', 'perfekt', 'perfekt!', 'perfekt.', 'perth.', 'perücke?', 'pfeife', 'pfeifen.', 'pferd.', 'pferdchen.', 'pferde.', 'pfiff.', 'pfiffig.', 'pflanze.', 'pflanzen', 'pflanzen.', 'pflicht', 'pflicht.', 'phil.', 'pick-up.', 'pilot.', 'pilz.', 'pingelig.', 'pistolen.', 'pizza.', 'plan.', 'plastik.', 'platten.', 'plattenaufleger.', 'platz', 'platz.', 'pleite.', 'pleite?', 'pläne.', 'poet.', 'polizei?', 'polizist.', 'pony.', 'popcorn.', 'porzellankiste.', 'positiv.', 'post.', 'potzdonner!', 'preis', 'preise', 'prima', 'privatsphäre.', 'probier', 'probiere', 'probieren', 'probieren!', 'probieren.', 'probiert', 'problem!', 'problem.', 'problem?', 'probleme.', 'protestierte.', 'präg', 'prägen', 'prägt', 'präzise.', 'prüfe', 'prüfen', 'pummel.', 'pummelig.', 'puppe.', 'purist.', 'puzzles.', 'quatsch.', 'quitt.', 'rabbi.', 'rache!', 'rad', 'rad.', 'radelte', 'radfahrer.', 'radikal.', 'radio', 'radio.', 'raffiniert.', 'ran!', 'ran,', 'rannte', 'rannte.', 'rannte?', 'rannten.', 'rasch.', 'rasiert', 'rasiert.', 'rasierte', 'rasteten', 'rat', 'rate', 'rate,', 'raten', 'ratet', 'ratten', 'rauchen', 'rauchen.', 'rauchen?', 'rauchst', 'raucht', 'raucht.', 'rauchte.', 'raus', 'raus!', 'raus.', 'rausgehen.', 'rauskommst!', 'rauskommt.', 'reagier', 'real.', 'realistisch!', 'rechnung', 'rechnung,', 'rechnung.', 'recht', 'recht.', 'recht?', 'rechtens?', 'rechts', 'rechtsanwalt.', 'rechtsanwälte.', 'recyceln', 'recycelst', 'recycelt', 'red', 'rede', 'reden', 'reden!', 'reden.', 'reden?', 'redet', 'redet.', 'reg', 'regel.', 'regeln.', 'regen', 'regen.', 'reggae.', 'regiert', 'regnen.', 'regnet', 'regnet.', 'reh', 'reich', 'reich.', 'reich?', 'reicher', 'reicht', 'reicht!', 'reicht.', 'reif.', 'reihe.', 'reihe?', 'reihen.', 'rein!', 'rein,', 'rein.', 'reingehen.', 'reingelegt.', 'reinige', 'reinigen', 'reinkommen.', 'reinkommen?', 'reis', 'reis.', 'reise', 'reisen', 'reisen.', 'reizend.', 'religiöser', 'renn', 'rennen.', 'rennt', 'rennt.', 'rente.', 'repariere', 'reparieren', 'reparieren.', 'repariert.', 'respektiere', 'respektieren', 'respektiert', 'rette', 'retten', 'rettet', 'rettete', 'richte', 'richtig', 'richtig!', 'richtig.', 'richtig?', 'riech', 'rieche', 'riechen', 'riechst', 'riecht', 'rief', 'rief.', 'riefen', 'rindfleisch', 'rindfleisch.', 'ring.', 'risiken', 'risiko', 'risiko.', 'riskant.', 'robben', 'rock.', 'rollschuh', 'rollschuh.', 'romantisch!', 'rosen.', 'rot', 'rot.', 'rotschopf.', 'ruf', 'rufe', 'rufen', 'rufen.', 'ruft', 'ruft.', 'ruhe', 'ruhe!', 'ruhe.', 'ruhelos.', 'ruhen', 'ruhestand.', 'ruhestand?', 'ruhig', 'ruhig!', 'ruhig.', 'ruht', 'ruiniert.', 'ruinierten', 'runden.', 'runter', 'runter!', 'runter.', 'runterkommen.', 'runzelte', 'ruppig.', 'rutsch', 'rutschte', 'rätsel.', 'rüber!', 'rüber.', 'rücken', 'rücken.', 'rückendeckung!', 'rückenschmerzen.', 'rühr', 'rührt', 'rülpse', 'rülpste.', 'rüpel.', 'sache', 'sache.', 'sachte.', 'sag', \"sag's\", 'sage', 'sage!', 'sage,', 'sagen', 'sagen!', 'sagen.', 'sagenhaft!', 'sagt', 'sagt.', 'sagte', 'sagte,', 'sagten', 'sagtest', 'sagtet', 'sah', 'sahen', 'salat', 'salat.', 'salz', 'salz?', 'samstag.', 'samurai.', 'sand.', 'sanft.', 'sang', 'sang.', 'sangen.', 'saschimi.', 'satt.', 'saturn.', 'satz!', 'sauber!', 'sauber.', 'sauer', 'sauer.', 'sauer?', 'sause!', 'saß', 'saßen', 'schach.', 'schade!', 'schade.', 'schaden.', 'schaffen', 'schaffen.', 'schaffst', 'schafft', 'schaffte', 'schallplattenunterhalter.', 'schalte', 'schande!', 'scharf', 'scharf.', 'scharfsinnig!', 'scharfsinnig.', 'schau', 'schau.', 'schaue', 'schauen', 'schauspieler.', 'schaust', 'schaut', 'schaute', 'schaute.', 'schauten', 'scheinen', 'scheinst', 'scheint', 'scheint,', 'scheint’s,', 'scheitern.', 'scher', 'scherte', 'scherz!', 'scherz.', 'scherz?', 'scherze', 'scherzen!', 'scherzen.', 'scherzt.', 'scherzt?', 'schi', 'schick', 'schicken', 'schickt', 'schiech.', 'schien', 'schieß!', 'schieße.', 'schießen', 'schießen!', 'schießen.', 'schießt', 'schildkröten.', 'schimpfen.', 'schimpfte', 'schimpfte.', 'schinden!', 'schinken.', 'schlaf.', 'schlafe', 'schlafen', 'schlafen!', 'schlafen.', 'schlag', 'schlaganfall.', 'schlage', 'schlagen', 'schlagen.', 'schlagt', 'schlank.', 'schlau!', 'schlau.', 'schlecht.', 'schlecht?', 'schlechtes', 'schlicht.', 'schlichtweg', 'schlief', 'schlief.', 'schliefen.', 'schließ', 'schließe', 'schließen', 'schlimm', 'schlimm.', 'schlimm?', 'schlimmer.', 'schlittschuh', 'schlittschuh.', 'schloss', 'schluchzt.', 'schluckauf.', 'schlummert.', 'schluss', 'schläfrig.', 'schläfst', 'schläft', 'schläft.', 'schlösser.', 'schlüssel', 'schlüssel.', 'schmeck', 'schmecken', 'schmeckt', \"schmeckt's?\", 'schmeichelst', 'schmerzen.', 'schmerzen?', 'schmerzt', 'schmerzt.', 'schmoll', 'schmutzig.', 'schnappt', 'schnappte', 'schnarche', 'schnarche.', 'schnarcht.', 'schnee.', 'schnee?', 'schneide', 'schneiden', 'schneidet', 'schneit', 'schneit.', 'schneite.', 'schnell', 'schnell!', 'schnell.', 'schnelle', 'schneller', 'schneller.', 'schnitt', 'schnupfen.', 'schnurren', 'schnäppchen!', 'schnüffeln.', 'schockiert.', 'schon', 'schon!', 'schon,', 'schon.', 'schon?', 'schoss', 'schrecklich!', 'schrecklich.', 'schrei', 'schreib', 'schreibe', 'schreiben', 'schreiben.', 'schreibt', 'schreibtisch', 'schreib’s', 'schreien', 'schreien!', 'schreien.', 'schreit', 'schreit.', 'schrie.', 'schrie?', 'schrieb', 'schriftsteller.', 'schritt', 'schroff.', 'schubs', 'schubsen', 'schubsen!', 'schubst', 'schubste', 'schuld', 'schuld.', 'schuld?', 'schulde', 'schulden.', 'schuldest', 'schuldig.', 'schuldig?', 'schule', 'schule.', 'schummeln.', 'schummelt.', 'schummelte.', 'schummelte?', 'schuss', 'schuss!', 'schwach.', 'schwamm.', 'schwamm?', 'schwammen.', 'schwanger.', 'schwarz', 'schwarz.', 'schwarz?', 'schweine', 'schweine.', 'schweizer.', 'schwer', 'schwer.', 'schwestern.', 'schwierig.', 'schwierigkeiten.', 'schwimm', 'schwimmbecken.', 'schwimme', 'schwimme.', 'schwimmen', 'schwimmen.', 'schwimmen?', 'schwimmt', 'schwimmt.', 'schwindelig.', 'schwindlig.', 'schwirr', 'schwitzte.', 'schwitzten.', 'schwächling.', 'schwärmt', 'schädel.', 'schädlich.', 'schäm', 'schäme', 'schämen', 'schämt', 'schämte', 'schön', 'schön!', 'schön.', 'schönen', 'schüchtern', 'schüchtern.', 'schüchtern?', 'schüchterner', 'schüler.', 'schülerin.', 'schüsse', 'sechs!', 'sechs.', 'seekrank.', 'segne', 'seh', 'sehe', 'sehen', 'sehen!', 'sehen.', 'sehen?', 'sehr', 'sehr!', 'sehr.', 'seht', 'sei', 'sei.', 'seid', 'seien', 'seil.', 'sein', 'sein!', 'sein.', 'sein?', 'seine', 'seinen', 'seins.', 'seite', 'seite!', 'seite.', 'sekunde.', 'selber.', 'selbst', 'selbst!', 'selbst.', 'selbstsüchtig.', 'selbstverständlich!', 'selbstverständlichkeit.', 'sellerie.', 'selten.', 'seltsam!', 'seltsam.', 'setz', 'setzen', 'setzen?', 'setzt', 'setzte', 'setzten', 'seufzte.', 'sexy.', 'sich', 'sich!', 'sich.', 'sich?', 'sicher', 'sicher!', 'sicher.', 'sicher?', 'sicherheit.', 'sicherheit?', 'sicherheitsdienst!', 'sie', 'sie!', \"sie's\", \"sie's!\", 'sie,', 'sie.', 'sie?', 'sieben', 'siebzehn.', 'siegen.', 'sieger.', 'siegten.', 'sieh', 'sieh.', 'siehe', 'siehst', 'sieht', 'sie’s', 'sie’s?', 'sind', 'sind.', 'sind?', 'sing', 'sing!', 'singe', 'singen', 'singen.', 'singen?', 'single.', 'single?', 'singt', 'singt.', 'sinken', 'sinken.', 'sinn.', 'sinnlos.', 'sitz', 'sitzen', 'sitzen?', 'sitzenlassen.', 'sitzt.', 'skateboard.', 'skaten?', 'skatet.', 'skeptisch.', 'ski', 'ski.', 'skifahren.', 'skorbut.', 'skurril.', 'so', 'so!', 'so,', 'so.', 'so?', 'soeben', 'sofort', 'sofort.', 'sogar', 'sohn', 'sohn.', 'sohn?', 'soldat.', 'soldatin.', 'soll', \"soll's\", 'sollen', 'sollst', 'sollst!', 'sollte', 'sollten', 'solltest', 'solltet', 'sommer', 'sonne.', 'sonnenuntergänge.', 'sonst', 'sorge.', 'sorgen', 'sorgen!', 'sorgen.', 'soweit!', 'soweit.', 'soße.', 'sparsam.', 'spazieren!', 'spazieren.', 'spaziergang', 'spaß', 'spaß!', 'spaß.', 'spaß?', 'speist.', 'spendete', 'spendeten', 'sperrig.', 'spezifisch.', 'spiegelei.', 'spiel', 'spiele', 'spiele.', 'spielen', 'spielen.', 'spieler.', 'spielfilme.', 'spielt', 'spielt.', 'spießer.', 'spinat.', 'spinne.', 'spinnen.', 'spion.', 'spione.', 'sport.', 'sportler.', 'sprach.', 'sprach?', 'sprache!', 'spreche', 'sprechen', 'sprechen!', 'sprechen.', 'sprich', 'spricht', 'spring', 'springen', 'springen.', 'sputen.', 'spät', 'spät!', 'spät.', 'spät?', 'später', 'später!', 'später.', 'spül', 'spüre', 'spüren.', 'stadt.', 'stand', 'stand?', 'standen', 'standen.', 'starb', 'starb.', 'starben.', 'stark.', 'starr', 'starren', 'starren.', 'starrt', 'statt', 'stau.', 'staubt', 'stecke', 'stecken', 'stecken.', 'steckt', 'steh', 'stehe', 'stehe.', 'stehen', 'stehen.', 'stehen?', 'stehenbleiben!', 'steht', \"steht's?\", 'steht?', 'steig', 'steige', 'steigen', 'steigen.', 'steigt', 'stell', 'stelle', 'stellen', 'stellte', 'sterbe', 'sterben!', 'sterben.', 'sterben?', 'sterblich.', 'stern.', 'sternhagelvoll.', 'steuern.', 'stieg.', 'stieß', 'still', 'still!', 'still.', 'stimme', 'stimme!', 'stimme.', 'stimmen', 'stimmen.', 'stimmen?', 'stimmt', 'stimmt!', 'stimmt.', 'stimmte', 'stimmten', 'stinken.', 'stinkig.', 'stinkreich.', 'stinkst.', 'stinkt.', 'stirb', 'stirbst.', 'stirbt', 'stirbt.', 'stirbt?', 'stirn.', 'stockbesoffen.', 'stockbetrunken.', 'stocken', 'stoisch.', 'stolperte.', 'stopp', 'stopp!', 'stoppen', 'stoppen.', 'stottert.', 'stoßzeit.', 'strafgefangene.', 'strafgefangener.', 'straße', 'streit.', 'streitet', 'streng', 'streng.', 'strengen', 'strengt', 'strickt.', 'stritt', 'student.', 'studenten.', 'studentin.', 'studiere', 'studiere.', 'studieren', 'studieren!', 'studiert', 'studiert.', 'stuhl.', 'stuntman.', 'stur.', 'stärker.', 'stöhnte.', 'stört', 'stück!', 'stürmte', 'stürzte', 'stürzte.', 'stürzten.', 'such', 'suche', 'suchen', 'suchen!', 'sucht', 'summe', 'summe.', 'summen', 'summen.', 'summst', 'summst.', 'summt', 'summt.', 'summt?', 'super.', 'suppe', 'sushi.', 'sympathisch.', 'sänger.', 'sängerin.', 'söhne.', 'süchtig.', 'süchtiger.', 'süß!', 'süß.', 'süß?', 'süße', 'süße.', 'süßes.', 'süßigkeit.', 'süßigkeiten.', 'tag', 'tag!', 'tag.', 'tagebuch.', 'taktvoll.', 'talent.', 'tante.', 'tanz', 'tanze', 'tanze.', 'tanzen', 'tanzen.', 'tanzen?', 'tanzt', 'tanzt.', 'tanzte.', 'tanzten.', 'tapfer!', 'tapfer.', 'tapfer?', 'tasche.', 'tasche?', 'tasse', 'tasse?', 'tat', 'taten', 'tatenlos', 'tatsache.', 'tatsachen!', 'tatsachen.', 'tatsächlich', 'tatverdächtiger.', 'tatverdächtiger?', 'taub.', 'taub?', 'tausche', 'tauschen', 'tauscht', 'taxi', 'taxi.', 'team!', 'tee', 'tee!', 'tee.', 'tee?', 'teenager.', 'teilchen', 'teile', 'teile.', 'teilen', 'teilen.', 'telefoniert.', 'telefoniert?', 'telefonierte.', 'telefonierte?', 'tennis.', 'test.', 'tests.', 'thomas', 'thunfisch.', 'tief', 'tief?', 'tier.', 'tiere.', 'tiger?', 'timing!', 'tippt', 'tisch.', 'tod', 'todmüde.', 'tokyo.', 'tolerant.', 'toll', 'toll!', 'toll,', 'toll.', 'tollpatsch.', 'tom', 'tom!', 'tom,', 'tom.', 'tom?', 'tomaten.', 'toms', 'toms.', 'toms?', 'tor!', 'tor.', 'tot.', 'tot?', 'tourist.', 'trab.', 'traf', 'trafen', 'trag', 'trage', 'tragen.', 'tragisch!', 'trainiert.', 'trank', 'trat', 'tratschen.', 'traue', 'trauen', 'trauert.', 'traum.', 'traurig', 'traurig.', 'treffen.', 'treibe', 'treppe', 'tresor', 'tresor!', 'trete', 'treten', 'tretet', 'treu.', 'treuherzig.', 'trifft', 'trink', 'trinke', 'trinken', 'trinken.', 'trinker.', 'trinkgeld?', 'trinkt.', 'tritt', 'troll', 'trost.', 'trotzdem!', 'trotzdem.', 'trug', 'träge.', 'trägt', 'träum', 'träume', 'träume!', 'träumen', 'träumen!', 'träumen.', 'tröste', 'trösten', 'tröstet', 'tschüss!', 'tu', 'tu,', 'tue', 'tue.', 'tulpen.', 'tun', 'tun.', 'tun?', 'turm.', 'tust', 'tut', 'tut,', 'tut’s', 'tu’s', 'twitter.', 'typ!', 'typ.', 'typisch.', 'töricht.', 'töte', 'töten', 'töten.', 'tüchtig.', 'tür', 'tür.', 'türe', 'türe.', 'türen!', 'ufo.', 'ufo?', 'uhr', 'uhr.', 'uhren.', 'um', 'um.', 'umarme', 'umarmen', 'umarmen?', 'umarmt', 'umarmt.', 'umarmte', 'umarmten', 'umarmung.', 'umbringen.', 'umgebracht.', 'umgebracht?', 'umgeschrieben.', 'umsonst', 'umziehen.', 'unbeeindruckt.', 'unbeholfen.', 'unbewaffnet.', 'unbewegt.', 'und', 'und?', 'unfair.', 'unfreundlich.', 'ungar.', 'ungarin.', 'ungeduldig.', 'ungelenk.', 'ungerecht!', 'ungerecht.', 'ungewöhnlich.', 'ungezogen.', 'unglaublich!', 'unglaublich.', 'unglücklich.', 'unhandlich.', 'unheimlich?', 'unhöflich!', 'unhöflich.', 'universität.', 'unleidlich.', 'unmenschlich.', 'unmoralisch.', 'unmöglich!', 'unordentlich.', 'unrecht.', 'uns', 'uns!', 'uns,', 'uns.', 'uns?', 'unschuldig.', 'unser', 'unsere', 'unsere.', 'unsere?', 'unseren', 'unserer.', 'unseres.', 'unsers.', 'unsinn!', 'unsinn.', 'unsre.', 'unsrer.', 'unsres.', 'untalentiert.', 'unten!', 'unten.', 'unter', 'unterbrechen?', 'unterbrochen.', 'untergehen.', 'untergliedere', 'unterhalte', 'unterhalten.', 'unterlassen', 'unternehmungslustig.', 'unterrichte', 'unterrichten', 'unterrichten.', 'unterrichtest', 'unterrichtet.', 'unterschreib', 'unterschreibe', 'unterschreiben', 'unterschreiben.', 'unterschrieben?', 'unterstütze', 'unterstützen', 'unterstützt', 'unterstützung.', 'untersuch', 'untersuchen', 'untertasse', 'unterwegs.', 'untröstlich.', 'unverletzt.', 'unverschämt.', 'unversehrt.', 'unversichert.', 'unwahrscheinlich.', 'unzuverlässig.', 'urlaub.', 'vage', 'vater.', 'vater?', 'vati.', 'veganer.', 'ventilator', 'verabredung.', 'verabscheute', 'verabschiede', 'verabschiedet', 'verabschiedete', 'verachte', 'verachtet.', 'veraltet.', 'veranlagt.', 'veranlasst', 'verantwortlich.', 'verbessern.', 'verbessert.', 'verbindung', 'verbindung.', 'verblüfft.', 'verboten!', 'verboten.', 'verbrannt.', 'verbrannte.', 'verbrechen.', 'verdiene', 'verdient.', 'verdorben.', 'verdufte!', 'verehrt', 'verfallen.', 'vergaß', 'vergaß.', 'vergeben', 'vergeben.', 'vergebt', 'vergeht.', 'vergessen', 'vergessen.', 'vergessen?', 'vergib', 'vergiftet', 'vergiftet.', 'vergingen.', 'vergiss', 'vergnügen!', 'verhandeln.', 'verhasst.', 'verheiratet.', 'verheiratet?', 'verhindern.', 'verhungern!', 'verhungern.', 'verirrt.', 'verirrte', 'verkatert.', 'verkauf', 'verkaufe', 'verkauft', 'verkauft.', 'verklagen', 'verklagen.', 'verklagt.', 'verkrümele', 'verkäufer.', 'verlass', 'verlasse', 'verlassen', 'verlassen.', 'verlaufen?', 'verletzen?', 'verletzt', 'verletzt.', 'verletzt?', 'verliebt.', 'verliebt?', 'verliere.', 'verlieren', 'verlieren!', 'verlieren.', 'verlierer.', 'verlierst.', 'verliert.', 'verließ', 'verlobt.', 'verlor', 'verloren', 'verloren!', 'verloren.', 'verloren?', 'verlust!', 'vermisse', 'vermissen', 'vermissen.', 'vermisst', 'vermisst.', 'vermählt.', 'verneigte', 'vernommen.', 'vernünftig!', 'verpennt.', 'verpetzt.', 'verpiss', 'verraten.', 'verriet', 'verrucht.', 'verrückt', 'verrückt!', 'verrückt.', 'verrückt?', 'versagen.', 'versagt.', 'versagte.', 'verschieden.', 'verschlafen.', 'verschlief.', 'verschuldet.', 'verschwand.', 'verschwand?', 'verschwanden.', 'verschwinde', 'verschwinde!', 'verschwinde.', 'verschwinden', 'verschwinden.', 'verschwindet', 'verschwitzt.', 'verschwunden.', 'verschwunden?', 'versichert.', 'versprach', \"versprech's.\", 'verspreche', 'versprechen.', 'versprochen.', 'verspäte', 'verspäten.', 'verspätet?', 'verspätete', 'verstanden!', 'verstanden.', 'verstanden?', 'versteck', 'verstecke', 'verstecken', 'verstecken.', 'versteckt', 'versteckt?', 'verstehe', 'verstehe,', 'verstehe.', 'verstehen', 'verstehen.', 'verstehst', 'versteht', 'verstärkung.', 'verstört', 'versuch', \"versuch's\", 'versuche', 'versuchen', 'versuchen!', 'versuchen.', 'versuchen?', 'versucht', 'versucht.', 'versucht?', 'versuchte', 'versuchten', 'versuchung!', 'versuch’s', 'versuch’s!', 'vertraue', 'vertrauen', 'vertrauen.', 'vertraut', 'vertraut.', 'vertraute', 'vertrauten', 'vertreter.', 'verunsichert.', 'verwende', 'verwenden.', 'verwenden?', 'verwendung', 'verwirrt.', 'verwirrt?', 'verwundet.', 'verwöhnt.', 'verzieh', 'verziehen', 'verziehen.', 'verzieht', 'verzisch', 'verzog', 'verzweifelt.', 'verändern', 'verändern.', 'verändert.', 'veränderte', 'verärgert.', 'veteran.', 'vieh.', 'viel', 'viel!', 'viel.', 'viel?', 'viele', 'vielen', 'vielleicht', 'vielleicht.', 'vielschichtig.', 'vier.', 'viertel', 'violine.', 'visum.', 'vogel!', 'vogel?', 'vollgegessen', 'volltanken.', 'vom', 'von', 'vor', 'vor!', 'vor.', 'vor?', 'voran!', 'voran.', 'vorangehen?', 'voraus.', 'vorausschauend.', 'vorbei.', 'vorbei?', 'vorbeigekommen.', 'vorbeikommen.', 'voreingenommen.', 'vorführung.', 'vorgemacht.', 'vorne', 'vorne.', 'vorsicht', 'vorsicht!', 'vorsichtig!', 'vorsichtig.', 'vorurteile.', 'vorzeitig', 'vorüber.', 'vorübergehende', 'vögel', 'vögel!', 'vögeln.', 'völlig', 'wach', 'wach.', 'wach?', 'wache.', 'wache?', 'wachen', 'wachmann.', 'wachsam!', 'wachsam.', 'wachsen.', 'wachte', 'waffe', 'waffe.', 'waffe?', 'wagen', 'wagen!', 'wagen.', 'wahnsinn.', 'wahnsinnig.', 'wahr', 'wahr.', 'wahr?', 'wahrhaben.', 'wahrheit!', 'wahrheit.', 'wahrheit?', 'waisenkind.', 'wandern', 'wankte.', 'wann', 'war', \"war's.\", 'waren', 'warm', 'warm.', 'warne', 'warnen', 'warnen.', 'warst', 'wart', \"wart'\", 'warte', 'warte!', 'warte.', 'warten', 'warten.', 'warten?', 'wartet', 'wartet.', 'wartete.', 'warteten.', 'warum', 'warum.', 'warum?', 'war’s?', 'was', 'was!', 'was.', 'was?', 'wasch', 'wasche', 'wasser', 'wasser.', 'weck', 'wecke', 'weckte', 'weg', 'weg!', 'weg,', 'weg.', 'weg?', 'wegen', 'weggegangen?', 'weggehen.', 'weggelaufen.', 'weggenommen?', 'weggeräumt?', 'weggezogen.', 'weh', 'weh!', 'weh.', 'weh?', 'wehgetan.', 'wehgetan?', 'wehren!', 'wehren.', 'wehtun.', 'weichei.', 'weigere', 'weigern.', 'weigerten', 'weihnachten.', 'weilchen!', 'wein.', 'wein?', 'weine', 'weinen', 'weinen!', 'weinen.', 'weint', 'weint.', 'weinte', 'weinte.', 'weise!', 'weise.', 'weit', 'weit.', 'weit?', 'weiter', 'weiter!', 'weiter.', 'weitergehen.', 'weitermachen.', 'weitsichtig.', 'weiß', 'weiß,', 'weiß.', 'weiß?', 'weißer.', 'weißt', 'weißt,', 'welche', 'welcher', 'welches', 'welt.', 'wem', 'wen', 'wenig', 'wer', 'werd', 'werde', 'werden', \"werden's\", 'werden.', 'werdet', 'werfen', 'werft', 'werkzeug.', 'wert!', 'wert?', 'westen.', 'wette', 'wette,', 'wette.', 'wich', 'wichtig.', 'widern', 'widersprach.', 'widerst', 'wie', 'wie.', 'wieder', 'wieder!', 'wieder.', 'wieder?', 'wiederkommen.', 'wiederschauen!', 'wiedersehen!', 'wiedersehen!“!', 'wieso', 'wieso.', 'wild', 'will', 'willen.', 'willig.', 'willkommen', 'willkommen!', 'willkommen.', 'willst', 'willst.', 'windig.', 'windig?', 'wink?', 'winkte.', 'winter.', 'wir', 'wir!', \"wir's\", \"wir's!\", 'wir.', 'wir?', 'wird', \"wird's\", 'wirds', 'wird’s', 'wirf', 'wirklich', 'wirklich.', 'wirklich?', 'wirkst', 'wirst', 'wirst.', 'wisch', 'wischen', 'wissen', 'wissen,', 'wissen.', 'wissenschaft', 'witz', 'witz!', 'witz.', 'witze!', 'witze.', 'witze?', 'witzelt.', 'witzig.', 'wo', 'wofür', 'wohl', 'wohl!', 'wohl.', 'wohlhabend.', 'wohne', 'wohnt', 'wohnung.', 'wolf?', 'wollen', 'wollte', 'woran', 'worden.', 'worden?', 'wort', 'wort.', 'wortkarg.', 'wortspiel.', 'wozu', 'wozu?', 'wunderbar!', 'wunderbar.', 'wunderschön.', 'wurde', 'wurden', 'wurdest', 'wurdet', 'wusste', 'wussten', 'wut.', 'wächter.', 'wähle', 'wählen', 'wählerisch.', 'wählt', 'wählte', 'wählte.', \"wär's\", 'wäre', 'wären', 'wünsch', 'wünsche', 'würde', 'würden', 'würdest', 'würdet', 'würfel!', 'würfele!', 'würfeln', 'würfle!', 'würgen.', 'wütend.', 'wütend?', 'yen.', 'yoga?', 'zahle', 'zahlen!', 'zahlen.', 'zahlt', 'zahlte', 'zahlte.', 'zahn', 'zahn.', 'zahnarzt.', 'zahnspange.', 'zahnärztin.', 'zauberhaft.', 'zehn.', 'zeichen!', 'zeichen.', 'zeichne', 'zeichnen.', 'zeichnet', 'zeig', \"zeig's\", 'zeige', 'zeigen', 'zeigen.', 'zeigte', 'zeigt’s', 'zeig’s', 'zeit', 'zeit!', 'zeit,', 'zeit.', 'zeit?', 'zeitarbeiter.', 'zeitig.', 'zerbrach.', 'zerbrochen.', 'zerstört.', 'zeug.', 'zieh', 'ziehe', 'ziehen', 'zieht', 'ziel', 'zielen', 'zielen.', 'zielt', 'ziemlich', 'zierlich.', 'zigarette.', 'zimmer.', 'zirkus!', 'zisch', 'zittert.', 'zitterte.', 'zog', 'zogen', 'zoomte', 'zornig.', 'zu', 'zu!', 'zu,', 'zu.', 'zu?', 'zubereiten?', 'zubereitet.', 'zucker', 'zucker.', 'zucker?', 'zuckte', 'zuerst', 'zuerst.', 'zufrieden!', 'zufrieden.', 'zug', 'zug.', 'zugehört.', 'zugehört?', 'zugelassen?', 'zugesehen.', 'zugetragen?', 'zuhause', 'zuhause.', 'zuhause?', 'zuhören.', 'zukunft', 'zulassen.', 'zum', 'zumute.', 'zur', 'zurecht.', 'zurechtkommen.', 'zurück', 'zurück!', 'zurück.', 'zurückgehalten.', 'zurückgehen.', 'zurückgekommen.', 'zurückgetan.', 'zurückgetreten.', 'zurückkommen.', 'zusammen', 'zusammen!', 'zusammen.', 'zusammenbleiben!', 'zusammengebrochen.', 'zusammengeschlagen.', 'zuschieben?', 'zusehen.', 'zustimmen.', 'zutritt.', 'zuverlässig.', 'zuversichtlich!', 'zwangserkrankung.', 'zweck.', 'zwei', 'zwei.', 'zweifel.', 'zweimal', 'zweiter.', 'zwerg.', 'zwiebeln.', 'zwilling.', 'zwinkerte.', 'zwängen.', 'zwölf', 'zynisch.', 'zäh.', 'zähl', 'zähle', 'zählen.', 'zögert.', 'zögerte.', 'züchte', 'züchtete', 'züge.', '»tom«', 'ächzte.', 'ähnlich.', 'älter.', 'älteste.', 'ändern', 'ändern.', 'ändern?', 'änderte.', 'äpfel', 'äpfel.', 'ärgere', 'ärgern', 'ärgert', 'ärgerte', 'ärzte.', 'öffne', 'öffnen', 'öffnet', 'öffnete.', 'österreicher.', 'übel.', 'üben.', 'über', 'überarbeitet.', 'überaus', 'überblick', 'überfall!', 'überfallen', 'überfallen.', 'überflüssig.', 'übergeben.', 'übergewicht.', 'übergewichtig.', 'überlass', 'überlasse', 'überlassen', 'überlasst', 'überleben.', 'überlebt.', 'überlebt?', 'überlebte.', 'überlebte?', 'überleg', 'überlegen', 'überlegt', 'übernehme', 'übernehmen', 'übernehmen.', 'übernehmt', 'übernimm', 'überprüfen', 'überprüfen.', 'überrascht.', 'übers', 'übersinnlich.', 'übersteigt', 'übertrieben.', 'überzeugt.', 'üblen', 'übrig?', 'übriggeblieben?', '’ne', '„ah!“', '„auf', '„ausreichend“.', '„bitte“', '„bitte“.', '„hör', '„nimm!“']\n"
          ],
          "name": "stdout"
        }
      ]
    },
    {
      "cell_type": "markdown",
      "metadata": {
        "id": "CuQ7B78BhLrx",
        "colab_type": "text"
      },
      "source": [
        "**Task 3 (5 marks)** \n",
        "\n",
        "---\n",
        "\n",
        "---\n",
        "\n",
        "*  Assign each unique word an integer value (5 marks).\n",
        "*  Create word embedding for your vocabulary using pre-trained Glove embeddings (10 marks) (http://nlp.stanford.edu/data/glove.6B.zip)\n",
        "* Print the first line of the embeddings (see below) "
      ]
    },
    {
      "cell_type": "code",
      "metadata": {
        "id": "e-g6Z11GJBjl",
        "colab_type": "code",
        "outputId": "cb7adf28-6ff8-469c-96c4-323e55a5bee1",
        "colab": {
          "base_uri": "https://localhost:8080/",
          "height": 52
        }
      },
      "source": [
        "#Dictonary of words, each word is converted into unique integer value for source and target language\n",
        "input_token_index = dict([(word,i) for i, word in enumerate(source_words)])\n",
        "target_token_index= dict([(word,i) for i, word in enumerate(target_words)])\n",
        "\n",
        "print(len(input_token_index))\n",
        "print(len(target_token_index))\n",
        "# print(input_token_index)"
      ],
      "execution_count": 11,
      "outputs": [
        {
          "output_type": "stream",
          "text": [
            "3085\n",
            "4979\n"
          ],
          "name": "stdout"
        }
      ]
    },
    {
      "cell_type": "code",
      "metadata": {
        "id": "pPq-c1tqfoRO",
        "colab_type": "code",
        "colab": {}
      },
      "source": [
        "#Embedding with Glove\n",
        "embeddings_dictionary = dict()\n",
        "#Getting Glove 100d file\n",
        "glove_file = open(r'glove.6B.100d.txt', encoding=\"utf8\")\n",
        "for line in glove_file:\n",
        "    records = line.split()\n",
        "    word = records[0]\n",
        "    vector_dimensions = asarray(records[1:], dtype='float32')\n",
        "    embeddings_dictionary[word] = vector_dimensions\n",
        "glove_file.close()"
      ],
      "execution_count": 0,
      "outputs": []
    },
    {
      "cell_type": "code",
      "metadata": {
        "id": "Ts9Gju9nMY4T",
        "colab_type": "code",
        "colab": {}
      },
      "source": [
        "# creating an embedding vector for each value in our unique\n",
        "# source language.\n",
        "#Setting Max num of words\n",
        "MAX_NUM_WORDS = 10000\n",
        "#Defining Embedding Shape\n",
        "embedding_dim = embeddings_dictionary.get('a').shape[0]\n",
        "num_words = min(MAX_NUM_WORDS, len(input_token_index))\n",
        "embedding_matrix = zeros((num_source_tokens, embedding_dim))\n",
        "for word, index in input_token_index.items():\n",
        "    embedding_vector = embeddings_dictionary.get(word)\n",
        "    if embedding_vector is not None:\n",
        "        # If words are not found in embedding dictionary, it will be all-zeros\n",
        "        embedding_matrix[index] = embedding_vector"
      ],
      "execution_count": 0,
      "outputs": []
    },
    {
      "cell_type": "code",
      "metadata": {
        "id": "I7G4tGZwgVUW",
        "colab_type": "code",
        "outputId": "43926c52-5504-49dc-8ce4-2fb187c2535a",
        "colab": {
          "base_uri": "https://localhost:8080/",
          "height": 311
        }
      },
      "source": [
        "#Printing First line of embedding\n",
        "print(embedding_matrix[1])"
      ],
      "execution_count": 0,
      "outputs": [
        {
          "output_type": "stream",
          "text": [
            "[-0.60233003 -0.43066999 -0.050579   -0.51604998 -0.25003001  0.095017\n",
            " -0.51494002  0.80532998 -0.43268999  0.56735998  0.28883001 -0.50656003\n",
            "  0.37138     0.12710001 -0.44266999 -1.02610004  0.96894997  0.16565999\n",
            " -0.91569     0.059401    0.89892    -0.43035001 -0.12737    -0.21546\n",
            "  0.23238     0.11912    -0.27559    -0.37294     1.02279997 -0.030068\n",
            "  0.042822   -0.14064001 -0.15496001 -0.58327001 -0.40650001  0.32898\n",
            " -0.33748999 -0.20298     0.43977001 -0.43292999  0.023072    0.068343\n",
            "  1.04779994 -0.23901001  0.20482001  0.13564999 -0.54531002 -0.69310999\n",
            " -0.34939    -1.23870003  0.56384999  0.019323   -0.68619001  1.04330003\n",
            "  0.077851   -0.79892999  0.26863    -1.27419996  2.36080003  0.42973\n",
            "  0.16173001 -0.063217   -0.22765     0.096014    0.15469    -0.27911001\n",
            " -0.29409999 -0.39471999  0.24062     0.41396999 -0.12524    -0.69024003\n",
            "  0.36071     0.29032001  0.39203     0.84381002  0.34588999  0.40762001\n",
            " -0.27689001 -0.43457001  0.14938     0.13569     0.28668001  0.77752\n",
            " -0.67536002 -0.38264999 -0.45196    -0.31042001 -0.34601    -0.32631001\n",
            " -0.81292999 -0.34002     0.42727    -0.16604    -0.27921     0.35014999\n",
            "  0.16711    -0.28933999  0.104       0.17208999]\n"
          ],
          "name": "stdout"
        }
      ]
    },
    {
      "cell_type": "markdown",
      "metadata": {
        "id": "2QfLgKEgazro",
        "colab_type": "text"
      },
      "source": [
        "## Section 2 Translation Model training\n",
        "\n",
        "\n",
        "\n",
        "---\n",
        "\n"
      ]
    },
    {
      "cell_type": "markdown",
      "metadata": {
        "id": "Y8WnlX8d0RVj",
        "colab_type": "text"
      },
      "source": [
        "**Task 4 (15 marks)**\n",
        "* Provide code for the encoder using Keras LSTM (5 marks)\n",
        "* Provide code for the decoder using Keras LSTM (5 marks)\n",
        "* Train the sequence2sequence (encoder-decoder) model (5 marks) \n"
      ]
    },
    {
      "cell_type": "code",
      "metadata": {
        "id": "eobhQneSDgC-",
        "colab_type": "code",
        "colab": {}
      },
      "source": [
        "#Tokenizing Input\n",
        "input_tokenizer = Tokenizer(num_words= MAX_NUM_WORDS)\n",
        "input_tokenizer.fit_on_texts(input_texts)\n",
        "input_integer_seq = input_tokenizer.texts_to_sequences(input_texts)\n",
        "#Tokenizing Output\n",
        "output_tokenizer = Tokenizer(num_words=MAX_NUM_WORDS, filters='')\n",
        "output_tokenizer.fit_on_texts(target_texts + target_text_input)\n",
        "output_integer_seq = output_tokenizer.texts_to_sequences(target_texts)\n",
        "output_input_integer_seq = output_tokenizer.texts_to_sequences(target_text_input)\n",
        "#Vocab\n",
        "source_vocabulary = input_tokenizer.word_index\n",
        "target_vocabulary = output_tokenizer.word_index\n",
        "\n",
        "#Padding the input sentences\n",
        "encoder_input_sequences = pad_sequences(input_integer_seq, maxlen=max_source_seq_length)\n",
        "#print(\"encoder_input_sequences.shape:\", encoder_input_sequences.shape)\n",
        "#print(\"encoder_input_sequences[100]:\", encoder_input_sequences[100])\n",
        "\n",
        "#Padding the Decoder input (Post)\n",
        "decoder_input_sequences = pad_sequences(output_input_integer_seq, maxlen=max_target_seq_length, padding='post')\n",
        "#print(\"decoder_input_sequences.shape:\", decoder_input_sequences.shape)\n",
        "#print(\"decoder_input_sequences[100]:\", decoder_input_sequences[100])\n",
        "\n",
        "#Padding the Decoder output\n",
        "decoder_output_sequences = pad_sequences(output_integer_seq, maxlen=max_target_seq_length, padding='post')\n",
        "#print(\"decoder_output_sequences.shape:\", decoder_output_sequences.shape)\n",
        "#print(\"decoder_output_sequences[100]:\", decoder_output_sequences[100])"
      ],
      "execution_count": 0,
      "outputs": []
    },
    {
      "cell_type": "code",
      "metadata": {
        "id": "F_sLH38o0BJq",
        "colab_type": "code",
        "colab": {}
      },
      "source": [
        "#Encoder code goes here\n",
        "import numpy as np\n",
        "encoder_input_data=np.zeros((len(input_texts),max_source_seq_length,num_source_tokens),dtype='float32')"
      ],
      "execution_count": 0,
      "outputs": []
    },
    {
      "cell_type": "code",
      "metadata": {
        "id": "erw3s9vI0scb",
        "colab_type": "code",
        "colab": {}
      },
      "source": [
        "# Decoder code goes here\n",
        "decoder_input_data=np.zeros((len(input_texts), max_target_seq_length, num_target_tokens),dtype='float32')\n",
        "decoder_target_data=np.zeros((len(input_texts), max_target_seq_length, num_target_tokens),dtype='float32')"
      ],
      "execution_count": 0,
      "outputs": []
    },
    {
      "cell_type": "code",
      "metadata": {
        "id": "C9heenXdQCkS",
        "colab_type": "code",
        "outputId": "e551fcf1-4026-4cbe-bddd-af5f95185be1",
        "colab": {
          "base_uri": "https://localhost:8080/",
          "height": 69
        }
      },
      "source": [
        "#Printing the shape to check\n",
        "print(encoder_input_data.shape)\n",
        "print(decoder_input_data.shape)\n",
        "print(decoder_target_data.shape)"
      ],
      "execution_count": 17,
      "outputs": [
        {
          "output_type": "stream",
          "text": [
            "(10000, 15, 3085)\n",
            "(10000, 49, 4980)\n",
            "(10000, 49, 4980)\n"
          ],
          "name": "stdout"
        }
      ]
    },
    {
      "cell_type": "code",
      "metadata": {
        "id": "WVfl-LqSJDUV",
        "colab_type": "code",
        "colab": {}
      },
      "source": [
        "#One hot encoding the encoder sequence\n",
        "for i, d in enumerate(encoder_input_sequences):\n",
        "    for t, word in enumerate(d):\n",
        "        encoder_input_data[i, t, word] = 1"
      ],
      "execution_count": 0,
      "outputs": []
    },
    {
      "cell_type": "code",
      "metadata": {
        "id": "yWrWC6VjMiMc",
        "colab_type": "code",
        "colab": {}
      },
      "source": [
        "#One hot encoding the decoder input sequence\n",
        "for i, d in enumerate(decoder_input_sequences):\n",
        "    for t, word in enumerate(d):\n",
        "        decoder_input_data[i, t, word] = 1"
      ],
      "execution_count": 0,
      "outputs": []
    },
    {
      "cell_type": "code",
      "metadata": {
        "id": "lr5GWgdnMjih",
        "colab_type": "code",
        "colab": {}
      },
      "source": [
        "#One hot encoding the decoder output sequence\n",
        "for i, d in enumerate(decoder_output_sequences):\n",
        "    for t, word in enumerate(d):\n",
        "        decoder_target_data[i, t, word] = 1"
      ],
      "execution_count": 0,
      "outputs": []
    },
    {
      "cell_type": "code",
      "metadata": {
        "id": "LQhCxCppQs_R",
        "colab_type": "code",
        "colab": {}
      },
      "source": [
        "#Defining the LSTM Model\n",
        "EMBEDDING_SIZE = 100\n",
        "LSTM_NODES = 256\n",
        "#Defining embedding layer for encoder\n",
        "embedding_layer = Embedding(num_words, EMBEDDING_SIZE, weights=[embedding_matrix], input_length=max_source_seq_length)\n",
        "\n",
        "encoder_inputs_placeholder = Input(shape=(max_source_seq_length,))\n",
        "x = embedding_layer(encoder_inputs_placeholder)\n",
        "encoder = LSTM(LSTM_NODES, return_state=True)\n",
        "\n",
        "encoder_outputs, h, c = encoder(x)\n",
        "encoder_states = [h, c]"
      ],
      "execution_count": 0,
      "outputs": []
    },
    {
      "cell_type": "code",
      "metadata": {
        "id": "40_bRGTfUQ18",
        "colab_type": "code",
        "colab": {}
      },
      "source": [
        "#Decoder Placeholder\n",
        "decoder_inputs_placeholder = Input(shape=(max_target_seq_length,))\n",
        "#Embedding for decoder\n",
        "decoder_embedding = Embedding(num_words, LSTM_NODES)\n",
        "decoder_inputs_x = decoder_embedding(decoder_inputs_placeholder)\n",
        "#Decoder Output\n",
        "decoder_lstm = LSTM(LSTM_NODES, return_sequences=True, return_state=True)\n",
        "decoder_outputs, _, _ = decoder_lstm(decoder_inputs_x, initial_state=encoder_states)"
      ],
      "execution_count": 0,
      "outputs": []
    },
    {
      "cell_type": "code",
      "metadata": {
        "id": "5PZgfEH9Vbds",
        "colab_type": "code",
        "colab": {}
      },
      "source": [
        "#Using Softmax activation\n",
        "decoder_dense = Dense(num_target_tokens, activation='softmax')\n",
        "decoder_outputs = decoder_dense(decoder_outputs)"
      ],
      "execution_count": 0,
      "outputs": []
    },
    {
      "cell_type": "code",
      "metadata": {
        "id": "xe3hV0b00uJN",
        "colab_type": "code",
        "outputId": "0cd11013-c102-4034-c8d3-6e44fdf582a2",
        "colab": {
          "base_uri": "https://localhost:8080/",
          "height": 432
        }
      },
      "source": [
        "#model= # your code goes here\n",
        "model= Model([encoder_inputs_placeholder,decoder_inputs_placeholder], decoder_outputs)\n",
        "model.compile(optimizer='rmsprop',loss='categorical_crossentropy', metrics=['accuracy'])\n",
        "model.summary()"
      ],
      "execution_count": 24,
      "outputs": [
        {
          "output_type": "stream",
          "text": [
            "Model: \"model_1\"\n",
            "__________________________________________________________________________________________________\n",
            "Layer (type)                    Output Shape         Param #     Connected to                     \n",
            "==================================================================================================\n",
            "input_1 (InputLayer)            (None, 15)           0                                            \n",
            "__________________________________________________________________________________________________\n",
            "input_2 (InputLayer)            (None, 49)           0                                            \n",
            "__________________________________________________________________________________________________\n",
            "embedding_1 (Embedding)         (None, 15, 100)      308500      input_1[0][0]                    \n",
            "__________________________________________________________________________________________________\n",
            "embedding_2 (Embedding)         (None, 49, 256)      789760      input_2[0][0]                    \n",
            "__________________________________________________________________________________________________\n",
            "lstm_1 (LSTM)                   [(None, 256), (None, 365568      embedding_1[0][0]                \n",
            "__________________________________________________________________________________________________\n",
            "lstm_2 (LSTM)                   [(None, 49, 256), (N 525312      embedding_2[0][0]                \n",
            "                                                                 lstm_1[0][1]                     \n",
            "                                                                 lstm_1[0][2]                     \n",
            "__________________________________________________________________________________________________\n",
            "dense_1 (Dense)                 (None, 49, 4980)     1279860     lstm_2[0][0]                     \n",
            "==================================================================================================\n",
            "Total params: 3,269,000\n",
            "Trainable params: 3,269,000\n",
            "Non-trainable params: 0\n",
            "__________________________________________________________________________________________________\n"
          ],
          "name": "stdout"
        }
      ]
    },
    {
      "cell_type": "code",
      "metadata": {
        "id": "ovWQs8KG09we",
        "colab_type": "code",
        "outputId": "114a5835-eeb3-4d4b-df83-81ba573cc854",
        "colab": {
          "base_uri": "https://localhost:8080/",
          "height": 435
        }
      },
      "source": [
        "#Fitting the model\n",
        " model.fit(\n",
        "    [encoder_input_sequences, decoder_input_sequences],\n",
        "    decoder_target_data,\n",
        "    epochs=10,\n",
        "    validation_split=0.2\n",
        ")\n",
        "model.save('seq2seq_source_target.h5')"
      ],
      "execution_count": 25,
      "outputs": [
        {
          "output_type": "stream",
          "text": [
            "/usr/local/lib/python3.6/dist-packages/tensorflow/python/framework/indexed_slices.py:434: UserWarning: Converting sparse IndexedSlices to a dense Tensor of unknown shape. This may consume a large amount of memory.\n",
            "  \"Converting sparse IndexedSlices to a dense Tensor of unknown shape. \"\n"
          ],
          "name": "stderr"
        },
        {
          "output_type": "stream",
          "text": [
            "Train on 8000 samples, validate on 2000 samples\n",
            "Epoch 1/10\n",
            "8000/8000 [==============================] - 41s 5ms/step - loss: 0.5789 - accuracy: 0.9318 - val_loss: 0.4412 - val_accuracy: 0.9375\n",
            "Epoch 2/10\n",
            "8000/8000 [==============================] - 39s 5ms/step - loss: 0.3644 - accuracy: 0.9464 - val_loss: 0.4024 - val_accuracy: 0.9421\n",
            "Epoch 3/10\n",
            "8000/8000 [==============================] - 38s 5ms/step - loss: 0.3296 - accuracy: 0.9501 - val_loss: 0.3780 - val_accuracy: 0.9456\n",
            "Epoch 4/10\n",
            "8000/8000 [==============================] - 38s 5ms/step - loss: 0.3041 - accuracy: 0.9536 - val_loss: 0.3602 - val_accuracy: 0.9491\n",
            "Epoch 5/10\n",
            "8000/8000 [==============================] - 38s 5ms/step - loss: 0.2841 - accuracy: 0.9562 - val_loss: 0.3487 - val_accuracy: 0.9511\n",
            "Epoch 6/10\n",
            "8000/8000 [==============================] - 38s 5ms/step - loss: 0.2671 - accuracy: 0.9587 - val_loss: 0.3397 - val_accuracy: 0.9530\n",
            "Epoch 7/10\n",
            "8000/8000 [==============================] - 38s 5ms/step - loss: 0.2528 - accuracy: 0.9607 - val_loss: 0.3333 - val_accuracy: 0.9547\n",
            "Epoch 8/10\n",
            "8000/8000 [==============================] - 38s 5ms/step - loss: 0.2404 - accuracy: 0.9623 - val_loss: 0.3304 - val_accuracy: 0.9554\n",
            "Epoch 9/10\n",
            "8000/8000 [==============================] - 38s 5ms/step - loss: 0.2300 - accuracy: 0.9638 - val_loss: 0.3244 - val_accuracy: 0.9561\n",
            "Epoch 10/10\n",
            "8000/8000 [==============================] - 38s 5ms/step - loss: 0.2202 - accuracy: 0.9651 - val_loss: 0.3206 - val_accuracy: 0.9570\n"
          ],
          "name": "stdout"
        }
      ]
    },
    {
      "cell_type": "markdown",
      "metadata": {
        "id": "0Sy_WCp31x79",
        "colab_type": "text"
      },
      "source": [
        "## Section 3 Testing\n",
        "\n",
        "---\n",
        "\n",
        "**Task 5 (20 marks)**\n",
        "\n",
        "* Use the trained model to translate the text from the source into the target language (10 marks). \n",
        "* Use the test/evaluation set (see Section 1) and perform an automatic evaluation with the BLEU metric (10 marks). \n",
        "You can use the NLTK library to calculate BLEU."
      ]
    },
    {
      "cell_type": "code",
      "metadata": {
        "id": "lXg4Nacd253k",
        "colab_type": "code",
        "colab": {}
      },
      "source": [
        "#Your code goes here\n",
        "#Loading the model\n",
        "model = Model([encoder_inputs_placeholder, decoder_inputs_placeholder], decoder_outputs)\n",
        "model.compile(optimizer='rmsprop', loss='categorical_crossentropy', metrics=['accuracy'])\n",
        "model.load_weights('seq2seq_source_target.h5')"
      ],
      "execution_count": 0,
      "outputs": []
    },
    {
      "cell_type": "code",
      "metadata": {
        "id": "pv4RMvnQaeGD",
        "colab_type": "code",
        "colab": {}
      },
      "source": [
        "#Encoder model and decoder sates\n",
        "encoder_model = Model(encoder_inputs_placeholder, encoder_states)\n",
        "decoder_input_h = Input(shape=(256,))\n",
        "decoder_input_c = Input(shape=(256,))\n",
        "decoder_inputs_sates = [decoder_input_h, decoder_input_c]"
      ],
      "execution_count": 0,
      "outputs": []
    },
    {
      "cell_type": "code",
      "metadata": {
        "id": "YMVGhz4iahAJ",
        "colab_type": "code",
        "colab": {}
      },
      "source": [
        "#Decoder Inputs and states\n",
        "decoder_inputs = Input(shape=(1,))\n",
        "decoder_inputs_x = decoder_embedding(decoder_inputs)\n",
        "decoder_outputs, state_h, state_c = decoder_lstm(decoder_inputs_x, initial_state=decoder_inputs_sates)\n",
        "decoder_states = [state_h, state_c]\n",
        "decoder_outputs = decoder_dense(decoder_outputs)"
      ],
      "execution_count": 0,
      "outputs": []
    },
    {
      "cell_type": "code",
      "metadata": {
        "id": "o82Y60yVum7i",
        "colab_type": "code",
        "colab": {}
      },
      "source": [
        "#Decoder Model\n",
        "decoder_model = Model(\n",
        "    [decoder_inputs] + decoder_inputs_sates,\n",
        "    [decoder_outputs] + decoder_states\n",
        ")"
      ],
      "execution_count": 0,
      "outputs": []
    },
    {
      "cell_type": "code",
      "metadata": {
        "id": "76JUNeFmvmKX",
        "colab_type": "code",
        "colab": {}
      },
      "source": [
        "#Getting the index of words\n",
        "idx2word_input = {v:k for k, v in source_vocabulary.items()}\n",
        "idx2word_target = {v:k for k, v in target_vocabulary.items()}"
      ],
      "execution_count": 0,
      "outputs": []
    },
    {
      "cell_type": "code",
      "metadata": {
        "id": "J-Cg6i7Avowf",
        "colab_type": "code",
        "colab": {}
      },
      "source": [
        "#Translate Sentence\n",
        "def translate_sentence(input_seq):\n",
        "    states_value = encoder_model.predict(input_seq)\n",
        "    target_seq = np.zeros((1, 1))\n",
        "    target_seq[0, 0] = target_vocabulary['<bof>']\n",
        "    eos = target_vocabulary['<eos>']\n",
        "    output_sentence = []\n",
        " \n",
        "    for _ in range(max_target_seq_length):\n",
        "        output_tokens, h, c = decoder_model.predict([target_seq] + states_value)\n",
        "        idx = np.argmax(output_tokens[0, 0, :])\n",
        " \n",
        "        if eos == idx:\n",
        "            break\n",
        " \n",
        "        word = ''\n",
        " \n",
        "        if idx > 0:\n",
        "            word = idx2word_target[idx]\n",
        "            output_sentence.append(word)\n",
        " \n",
        "        target_seq[0, 0] = idx\n",
        "        states_value = [h, c]\n",
        " \n",
        "    return ' '.join(output_sentence)"
      ],
      "execution_count": 0,
      "outputs": []
    },
    {
      "cell_type": "code",
      "metadata": {
        "id": "IpNbnwRZxeAT",
        "colab_type": "code",
        "colab": {
          "base_uri": "https://localhost:8080/",
          "height": 52
        },
        "outputId": "44e7580a-2e9f-490a-e5e8-7ebfbafa4a09"
      },
      "source": [
        "#Input sequence for encoder\n",
        "seq_index = np.random.choice(len(input_texts))\n",
        "input_seq = encoder_input_sequences[seq_index:seq_index+1]\n",
        "decoded_sentence = translate_sentence(input_seq)\n",
        "print('English Sentence:', input_texts[seq_index])\n",
        "print('German Translation:', decoded_sentence)"
      ],
      "execution_count": 68,
      "outputs": [
        {
          "output_type": "stream",
          "text": [
            "English Sentence: tom knows why.\n",
            "German Translation: tom kennt\n"
          ],
          "name": "stdout"
        }
      ]
    },
    {
      "cell_type": "code",
      "metadata": {
        "id": "dSgVJ5NKyf4Y",
        "colab_type": "code",
        "colab": {}
      },
      "source": [
        "#Importing Blue\n",
        "import nltk\n",
        "from nltk.translate.bleu_score import SmoothingFunction\n",
        "smoothing = SmoothingFunction().method4"
      ],
      "execution_count": 0,
      "outputs": []
    },
    {
      "cell_type": "code",
      "metadata": {
        "id": "ww-PY2eFymoc",
        "colab_type": "code",
        "colab": {}
      },
      "source": [
        "#Traing test split\n",
        "from sklearn.model_selection import train_test_split\n",
        "X_train , X_test , y_train, y_test = train_test_split(encoder_input_sequences, decoder_input_sequences , test_size=0.2)"
      ],
      "execution_count": 0,
      "outputs": []
    },
    {
      "cell_type": "code",
      "metadata": {
        "id": "cUL1By_kyzGS",
        "colab_type": "code",
        "colab": {}
      },
      "source": [
        "#Bleu\n",
        "def get_bleu(reference,hyp):\n",
        "    try:\n",
        "        return nltk.translate.bleu_score.sentence_bleu([reference], hypothesis,smoothing_function = smoothing,weights=(0.35,0.35,0.20,0.10))\n",
        "    except:\n",
        "        print(\"Zero\" , reference ,hyp)\n",
        "        return 0"
      ],
      "execution_count": 0,
      "outputs": []
    },
    {
      "cell_type": "code",
      "metadata": {
        "id": "JW9wCirLy76J",
        "colab_type": "code",
        "colab": {}
      },
      "source": [
        "_inp = encoder_input_sequences.tolist()\n",
        "X_test = X_test[:50]\n",
        "bleu_scores = list()"
      ],
      "execution_count": 0,
      "outputs": []
    },
    {
      "cell_type": "code",
      "metadata": {
        "id": "1RDCpoznzCIx",
        "colab_type": "code",
        "colab": {}
      },
      "source": [
        "#Generating Bleu Score\n",
        "for _i,x in enumerate(X_test):\n",
        "    idx = _inp.index(x.tolist())\n",
        "    seq = encoder_input_sequences[idx:idx+1] \n",
        "    translation = translate_sentence(seq)\n",
        "    reference = target_texts[idx].split()\n",
        "    hypothesis = translation.split()\n",
        "    reference = reference[:-1]\n",
        "    _score = get_bleu(reference,hypothesis)\n",
        "    bleu_scores.append( _score )"
      ],
      "execution_count": 0,
      "outputs": []
    },
    {
      "cell_type": "code",
      "metadata": {
        "id": "t3nhuSTNzSSk",
        "colab_type": "code",
        "colab": {
          "base_uri": "https://localhost:8080/",
          "height": 34
        },
        "outputId": "c82be692-8ffd-4802-8572-621ca460f422"
      },
      "source": [
        "#Bleu Score Before Attention\n",
        "_bleu_scores = np.array(bleu_scores)\n",
        "print(\"Avg Score: \"  ,_bleu_scores.mean() )"
      ],
      "execution_count": 74,
      "outputs": [
        {
          "output_type": "stream",
          "text": [
            "Avg Score:  0.3109140980759706\n"
          ],
          "name": "stdout"
        }
      ]
    },
    {
      "cell_type": "markdown",
      "metadata": {
        "id": "wb4F1-a00Hw6",
        "colab_type": "text"
      },
      "source": [
        "# Section 4 Attention\n",
        "\n",
        "---\n",
        "\n"
      ]
    },
    {
      "cell_type": "markdown",
      "metadata": {
        "id": "6XTD-fCC1yUA",
        "colab_type": "text"
      },
      "source": [
        "**Task 5 (40 Marks)** Sequence2Sequence\n",
        "\n",
        "* Extend the existing Seq2Seq model with an attention mechanism [Discussed in Class]\n",
        "* Create sequence2sequence model with attention (15 marks)\n",
        "* Train the model with the same data from Section 1 (10 marks)\n",
        "* Translate the evaluation set using the sequence2sequence attention model (10 marks)\n",
        "* Evaluate the translations made with the sequence2sequence attention model and compare it with the model without attention using BLEU (5 marks)"
      ]
    },
    {
      "cell_type": "code",
      "metadata": {
        "id": "cddDQ4923cPY",
        "colab_type": "code",
        "colab": {}
      },
      "source": [
        "#Creating an extended model\n",
        "#Encoder\n",
        "encoder_input = Input(shape=(max_source_seq_length,))\n",
        "encoder = Embedding(num_words, EMBEDDING_SIZE, weights= [embedding_matrix], trainable=False)(encoder_input)\n",
        "encoder = LSTM(256, return_sequences=True, unroll=True)(encoder)\n",
        "encoder_last = encoder[:,-1,:]\n",
        "#Decoder\n",
        "decoder_input = Input(shape=(max_target_seq_length,))\n",
        "decoder = Embedding(num_target_tokens, EMBEDDING_SIZE)(decoder_input)\n",
        "decoder = LSTM(256, return_sequences=True, unroll=True)(decoder, initial_state=[encoder_last,encoder_last])"
      ],
      "execution_count": 0,
      "outputs": []
    },
    {
      "cell_type": "code",
      "metadata": {
        "id": "2z0VJD1o0d-M",
        "colab_type": "code",
        "colab": {}
      },
      "source": [
        "# Attendtion model\n",
        "attention = dot([decoder, encoder], axes=[2,2])\n",
        "attention = Activation('softmax', name='attention')(attention)\n",
        "context = dot([attention, encoder], axes=[2,1])\n",
        "decoder_combined_context = concatenate([context, decoder])\n",
        "output = TimeDistributed(Dense(64, activation=\"tanh\"))(decoder_combined_context)\n",
        "output = TimeDistributed(Dense(num_target_tokens, activation=\"softmax\"))(output)"
      ],
      "execution_count": 0,
      "outputs": []
    },
    {
      "cell_type": "code",
      "metadata": {
        "id": "jPs0sgX83exM",
        "colab_type": "code",
        "outputId": "59fa5685-f2ab-4e6e-cf28-08fcf8037321",
        "colab": {
          "base_uri": "https://localhost:8080/",
          "height": 622
        }
      },
      "source": [
        "#Attention Model Summary\n",
        "model = Model(inputs =[encoder_input, decoder_input], outputs =[output])\n",
        "model.compile(optimizer='rmsprop', loss='categorical_crossentropy', metrics=['accuracy'])\n",
        "model.summary()"
      ],
      "execution_count": 77,
      "outputs": [
        {
          "output_type": "stream",
          "text": [
            "Model: \"model_5\"\n",
            "__________________________________________________________________________________________________\n",
            "Layer (type)                    Output Shape         Param #     Connected to                     \n",
            "==================================================================================================\n",
            "input_7 (InputLayer)            (None, 49)           0                                            \n",
            "__________________________________________________________________________________________________\n",
            "input_6 (InputLayer)            (None, 15)           0                                            \n",
            "__________________________________________________________________________________________________\n",
            "embedding_4 (Embedding)         (None, 49, 100)      498000      input_7[0][0]                    \n",
            "__________________________________________________________________________________________________\n",
            "embedding_3 (Embedding)         (None, 15, 100)      308500      input_6[0][0]                    \n",
            "__________________________________________________________________________________________________\n",
            "lstm_4 (LSTM)                   (None, 49, 256)      365568      embedding_4[0][0]                \n",
            "__________________________________________________________________________________________________\n",
            "lstm_3 (LSTM)                   (None, 15, 256)      365568      embedding_3[0][0]                \n",
            "__________________________________________________________________________________________________\n",
            "dot_1 (Dot)                     (None, 49, 15)       0           lstm_4[0][0]                     \n",
            "                                                                 lstm_3[0][0]                     \n",
            "__________________________________________________________________________________________________\n",
            "attention (Activation)          (None, 49, 15)       0           dot_1[0][0]                      \n",
            "__________________________________________________________________________________________________\n",
            "dot_2 (Dot)                     (None, 49, 256)      0           attention[0][0]                  \n",
            "                                                                 lstm_3[0][0]                     \n",
            "__________________________________________________________________________________________________\n",
            "concatenate_1 (Concatenate)     (None, 49, 512)      0           dot_2[0][0]                      \n",
            "                                                                 lstm_4[0][0]                     \n",
            "__________________________________________________________________________________________________\n",
            "time_distributed_1 (TimeDistrib (None, 49, 64)       32832       concatenate_1[0][0]              \n",
            "__________________________________________________________________________________________________\n",
            "time_distributed_2 (TimeDistrib (None, 49, 4980)     323700      time_distributed_1[0][0]         \n",
            "==================================================================================================\n",
            "Total params: 1,894,168\n",
            "Trainable params: 1,585,668\n",
            "Non-trainable params: 308,500\n",
            "__________________________________________________________________________________________________\n"
          ],
          "name": "stdout"
        }
      ]
    },
    {
      "cell_type": "code",
      "metadata": {
        "id": "glPhdHFN3JCj",
        "colab_type": "code",
        "outputId": "10bdb4fb-6a29-42cc-e7a7-bc1903e12efe",
        "colab": {
          "base_uri": "https://localhost:8080/",
          "height": 452
        }
      },
      "source": [
        "#Fitting the Attetion model\n",
        " model.fit(\n",
        "    [encoder_input_sequences, decoder_input_sequences],\n",
        "    decoder_target_data,\n",
        "    epochs=10,\n",
        "    validation_split=0.2\n",
        ")"
      ],
      "execution_count": 78,
      "outputs": [
        {
          "output_type": "stream",
          "text": [
            "/usr/local/lib/python3.6/dist-packages/tensorflow/python/framework/indexed_slices.py:434: UserWarning: Converting sparse IndexedSlices to a dense Tensor of unknown shape. This may consume a large amount of memory.\n",
            "  \"Converting sparse IndexedSlices to a dense Tensor of unknown shape. \"\n"
          ],
          "name": "stderr"
        },
        {
          "output_type": "stream",
          "text": [
            "Train on 8000 samples, validate on 2000 samples\n",
            "Epoch 1/10\n",
            "8000/8000 [==============================] - 20s 3ms/step - loss: 1.2274 - accuracy: 0.9196 - val_loss: 0.4733 - val_accuracy: 0.9313\n",
            "Epoch 2/10\n",
            "8000/8000 [==============================] - 16s 2ms/step - loss: 0.4028 - accuracy: 0.9413 - val_loss: 0.4441 - val_accuracy: 0.9388\n",
            "Epoch 3/10\n",
            "8000/8000 [==============================] - 16s 2ms/step - loss: 0.3802 - accuracy: 0.9435 - val_loss: 0.4395 - val_accuracy: 0.9386\n",
            "Epoch 4/10\n",
            "8000/8000 [==============================] - 16s 2ms/step - loss: 0.3674 - accuracy: 0.9450 - val_loss: 0.4350 - val_accuracy: 0.9398\n",
            "Epoch 5/10\n",
            "8000/8000 [==============================] - 16s 2ms/step - loss: 0.3565 - accuracy: 0.9461 - val_loss: 0.4160 - val_accuracy: 0.9412\n",
            "Epoch 6/10\n",
            "8000/8000 [==============================] - 16s 2ms/step - loss: 0.3465 - accuracy: 0.9470 - val_loss: 0.4147 - val_accuracy: 0.9410\n",
            "Epoch 7/10\n",
            "8000/8000 [==============================] - 16s 2ms/step - loss: 0.3378 - accuracy: 0.9480 - val_loss: 0.4158 - val_accuracy: 0.9395\n",
            "Epoch 8/10\n",
            "8000/8000 [==============================] - 16s 2ms/step - loss: 0.3314 - accuracy: 0.9487 - val_loss: 0.4096 - val_accuracy: 0.9405\n",
            "Epoch 9/10\n",
            "8000/8000 [==============================] - 16s 2ms/step - loss: 0.3256 - accuracy: 0.9493 - val_loss: 0.4050 - val_accuracy: 0.9419\n",
            "Epoch 10/10\n",
            "8000/8000 [==============================] - 17s 2ms/step - loss: 0.3208 - accuracy: 0.9500 - val_loss: 0.4082 - val_accuracy: 0.9401\n"
          ],
          "name": "stdout"
        },
        {
          "output_type": "execute_result",
          "data": {
            "text/plain": [
              "<keras.callbacks.callbacks.History at 0x7f0099e22f28>"
            ]
          },
          "metadata": {
            "tags": []
          },
          "execution_count": 78
        }
      ]
    },
    {
      "cell_type": "code",
      "metadata": {
        "id": "xVFq-2Ue4yeG",
        "colab_type": "code",
        "colab": {}
      },
      "source": [
        "#Evaluation for the Attention Model\n",
        "def translate_attention(seq):\n",
        "    decoder_input = np.ones(shape=(seq.shape[0], max_target_seq_length))\n",
        "  \n",
        "    decoder_input[:,0] = target_vocabulary['<bof>']\n",
        "    for i in range(1, max_target_seq_length):\n",
        "        output_ = model.predict([seq, decoder_input]).argmax(axis=2)\n",
        "        decoder_input[:,i] = output_[:,i]\n",
        "    decoder_output = decoder_input[:,1:]\n",
        "    decoder_output = np.array(decoder_output,dtype=int)\n",
        "    sequence = decoder_output[0]\n",
        "    text = ''\n",
        "    for i in sequence:\n",
        "        if i == 0:\n",
        "            continue\n",
        "        if idx2word_target[i] == '<eos>':\n",
        "            break\n",
        "        else:\n",
        "            text += ' ' + idx2word_target[i]\n",
        "    return text.strip().rstrip()"
      ],
      "execution_count": 0,
      "outputs": []
    },
    {
      "cell_type": "code",
      "metadata": {
        "id": "s3PvjVbQ6I-z",
        "colab_type": "code",
        "colab": {}
      },
      "source": [
        "bleu_scores_att = list()"
      ],
      "execution_count": 0,
      "outputs": []
    },
    {
      "cell_type": "code",
      "metadata": {
        "id": "jNsbezcG6K0X",
        "colab_type": "code",
        "colab": {}
      },
      "source": [
        "#Generating Bleu Score for attention \n",
        "for _i,x in enumerate(X_test):\n",
        "    idx = _inp.index(x.tolist())\n",
        "    seq = encoder_input_sequences[idx:idx+1] \n",
        "    translation = translate_attention(seq)\n",
        "    reference = target_texts[idx].split()\n",
        "    hypothesis = translation.split()\n",
        "    reference = reference[:-1]\n",
        "    _score = get_bleu(reference,hypothesis)\n",
        "    bleu_scores_att.append( _score )\n"
      ],
      "execution_count": 0,
      "outputs": []
    },
    {
      "cell_type": "code",
      "metadata": {
        "id": "5Fm9GjvH7urE",
        "colab_type": "code",
        "outputId": "6d14d320-aa0f-4a7f-e3d3-2cd9cb64d33d",
        "colab": {
          "base_uri": "https://localhost:8080/",
          "height": 34
        }
      },
      "source": [
        "#Bleu Score After Attention\n",
        "_bleu_scores_att = np.array(bleu_scores_att)\n",
        "print(\"Avg Score After Attention: \"  ,_bleu_scores.mean() )"
      ],
      "execution_count": 83,
      "outputs": [
        {
          "output_type": "stream",
          "text": [
            "Avg Score After Attention:  0.3109140980759706\n"
          ],
          "name": "stdout"
        }
      ]
    }
  ]
}